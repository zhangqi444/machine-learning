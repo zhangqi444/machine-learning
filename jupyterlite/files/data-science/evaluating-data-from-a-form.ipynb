{
 "cells": [
  {
   "cell_type": "markdown",
   "metadata": {},
   "source": [
    "# Evaluating data from a form\n",
    "\n",
    "A client has been testing a small form as below to gather some basic data about their client-base. They have brought their findings to you to validate the data they have gathered. \n",
    "\n",
    "You have been provided a <a href=\"../../assets/data/simple-form.csv\">dataset of csv records</a> that contain entries from the form as well as some basic visualizations.The client pointed out that some of the visualizations look incorrect but they're unsure about how to resolve them.\n"
   ]
  },
  {
   "cell_type": "code",
   "execution_count": 2,
   "metadata": {
    "tags": [
     "hide-input"
    ]
   },
   "outputs": [
    {
     "data": {
      "text/html": [
       "\n",
       "<!DOCTYPE html>\n",
       "<html lang=\"en\">\n",
       "\n",
       "<head>\n",
       "    <meta charset=\"UTF-8\">\n",
       "    <meta http-equiv=\"X-UA-Compatible\" content=\"IE=edge\">\n",
       "    <meta name=\"viewport\" content=\"width=device-width, initial-scale=1.0\">\n",
       "    <title>Entry Form</title>\n",
       "</head>\n",
       "\n",
       "<body>\n",
       "    <h1>Please Fill out the Form (* required)</h1>\n",
       "    *<label>Birth Month</label> <input type=\"text\"> <br>\n",
       "    <label>State</label> <input type=\"text\"> <br>\n",
       "    <label for=\"pets\">Dogs or Cats?</label> \n",
       "    <select name=\"pets\" id=\"pets\">\n",
       "        <option value=\"dogs\">Dog</option>\n",
       "        <option value=\"cats\">Cats</option>\n",
       "    </select> <br>\n",
       "    <button>Submit</button>\n",
       "</body>\n",
       "\n",
       "</html>\n"
      ],
      "text/plain": [
       "<IPython.core.display.HTML object>"
      ]
     },
     "metadata": {},
     "output_type": "display_data"
    }
   ],
   "source": [
    "%%html\n",
    "\n",
    "<!DOCTYPE html>\n",
    "<html lang=\"en\">\n",
    "\n",
    "<head>\n",
    "    <meta charset=\"UTF-8\">\n",
    "    <meta http-equiv=\"X-UA-Compatible\" content=\"IE=edge\">\n",
    "    <meta name=\"viewport\" content=\"width=device-width, initial-scale=1.0\">\n",
    "    <title>Entry Form</title>\n",
    "</head>\n",
    "\n",
    "<body>\n",
    "    <h1>Please Fill out the Form (* required)</h1>\n",
    "    *<label>Birth Month</label> <input type=\"text\"> <br>\n",
    "    <label>State</label> <input type=\"text\"> <br>\n",
    "    <label for=\"pets\">Dogs or Cats?</label> \n",
    "    <select name=\"pets\" id=\"pets\">\n",
    "        <option value=\"dogs\">Dog</option>\n",
    "        <option value=\"cats\">Cats</option>\n",
    "    </select> <br>\n",
    "    <button>Submit</button>\n",
    "</body>\n",
    "\n",
    "</html>"
   ]
  },
  {
   "cell_type": "markdown",
   "metadata": {},
   "source": [
    "## Instructions\n",
    "\n",
    "Use the techniques in this section to make recommendations about the form so it captures accurate and consistent information. "
   ]
  },
  {
   "cell_type": "code",
   "execution_count": null,
   "metadata": {
    "kernelOptions": {
     "path": "./open-machine-learning-jupyter-book/"
    }
   },
   "outputs": [],
   "source": [
    "import pandas as pd\n",
    "import matplotlib.pyplot as plt\n",
    "\n",
    "#Loading the dataset\n",
    "path = '../../assets/data/simple-form.csv'\n",
    "form_df = pd.read_csv(path)\n",
    "print(form_df)"
   ]
  },
  {
   "cell_type": "code",
   "execution_count": null,
   "metadata": {},
   "outputs": [],
   "source": [
    "form_df['state'].value_counts().plot(kind='bar');\n",
    "plt.show()"
   ]
  },
  {
   "cell_type": "code",
   "execution_count": null,
   "metadata": {},
   "outputs": [],
   "source": [
    "form_df['birth_month'].value_counts().plot(kind='bar');\n",
    "plt.show()"
   ]
  },
  {
   "cell_type": "markdown",
   "metadata": {},
   "source": [
    "## Acknowledgments\n",
    "\n",
    "Thanks to Microsoft for creating the open-source course [Data Science for Beginners](https://github.com/microsoft/Data-Science-For-Beginners). It inspires the majority of the content in this chapter."
   ]
  }
 ],
 "metadata": {
  "kernelspec": {
   "display_name": "Python 3.9.13 64-bit",
   "language": "python",
   "name": "python3"
  },
  "language_info": {
   "codemirror_mode": {
    "name": "ipython",
    "version": 3
   },
   "file_extension": ".py",
   "mimetype": "text/x-python",
   "name": "python",
   "nbconvert_exporter": "python",
   "pygments_lexer": "ipython3",
   "version": "3.9.13"
  },
  "orig_nbformat": 4,
  "vscode": {
   "interpreter": {
    "hash": "aee8b7b246df8f9039afb4144a1f6fd8d2ca17a180786b69acc140d282b71a49"
   }
  }
 },
 "nbformat": 4,
 "nbformat_minor": 2
}
