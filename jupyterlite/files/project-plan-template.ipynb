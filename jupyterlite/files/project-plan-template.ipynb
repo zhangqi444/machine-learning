{
 "cells": [
  {
   "cell_type": "markdown",
   "metadata": {},
   "source": [
    "# Project Plan​ Template"
   ]
  },
  {
   "cell_type": "markdown",
   "metadata": {},
   "source": [
    "<h2>Project background​</h2>\n",
    "\n",
    "> Introduce the background of the project.\n",
    "​\n",
    "<h2>Project goals​</h2>\n",
    "\n",
    "> Goal 1:​\n",
    "> ...​\n",
    "​\n",
    "<h2>Teammates​</h2>\n",
    "\n",
    "> Enter teammates​.\n",
    "​\n",
    "<h2>Tasks and roles</h2>\n",
    "\n",
    "> Task 1:​\n",
    "> \n",
    "> Task 2: ...\n",
    "\n",
    "<h2>Timeline</h2>\n",
    "\n",
    "> Enter the project timeline.\n",
    "\n",
    "<h2>Related documents</h2>\n",
    "\n",
    "> If there are.\n"
   ]
  }
 ],
 "metadata": {
  "kernelspec": {
   "display_name": "Python 3.9.13 64-bit",
   "language": "python",
   "name": "python3"
  },
  "language_info": {
   "codemirror_mode": {
    "name": "ipython",
    "version": 3
   },
   "file_extension": ".py",
   "mimetype": "text/x-python",
   "name": "python",
   "nbconvert_exporter": "python",
   "pygments_lexer": "ipython3",
   "version": "3.9.13"
  },
  "orig_nbformat": 4,
  "vscode": {
   "interpreter": {
    "hash": "aee8b7b246df8f9039afb4144a1f6fd8d2ca17a180786b69acc140d282b71a49"
   }
  }
 },
 "nbformat": 4,
 "nbformat_minor": 2
}
