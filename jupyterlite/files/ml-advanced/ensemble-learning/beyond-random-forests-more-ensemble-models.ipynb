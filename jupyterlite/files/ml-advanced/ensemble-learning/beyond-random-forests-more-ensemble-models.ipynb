{
 "cells": [
  {
   "cell_type": "markdown",
   "id": "7c5ba4fe",
   "metadata": {},
   "source": [
    "# Beyond random forests: more ensemble models"
   ]
  },
  {
   "cell_type": "markdown",
   "id": "07494ffb",
   "metadata": {},
   "source": [
    "Ensembles are the combination of different machine learning models, where by averaging the results of all models trained together on the same dataset, the result can be away good than any individual model. These types of models can be used for all kinds of tasks, including classification, regression and detecting anomalies. \n",
    "\n",
    "In his book *[Hands-On Machine Learning with Scikit-Learn, Keras and TensorFlow](https://www.oreilly.com/library/view/hands-on-machine-learning/9781492032632/)*, *Aurelion Geron* gave a perfect analogy describing the ensemble learning: \"Suppose you pose a complex question to thousands of random people, then aggregate their answers. In many cases you will find that this aggregated answer is better than an expert’s answer. This is called the *wisdom of the crowd*. Similarly, if you aggregate the predictions of a group of predictors (such as classifiers or regressors), you will often get better predictions than with the best individual predictor. A group of predictors is called an ensemble; thus, this technique is called Ensemble Learning, and an Ensemble Learning algorithm is called an Ensemble method.\"\n",
    "\n",
    "Random Forests that was used in the previous assignment is an example of ensemble models. It combined different decision trees. Usually, these types of models are classified into three groups that will be covered in this assignment:\n",
    "\n",
    "* Averaging Methods: Such as voting classifiers/regressors, bagging classifiers/regressors, random forests, extra trees classifier/regressor, etc...\n",
    "* Boosting Methods: Gradient Boosting, AdaBoost, XGBoost\n",
    "* Stacking in which instead of averaging the results of multiple models, multiple models are trained on the full training set and there is a final model trained on the different subsets (folds) of the training set. \n",
    "\n",
    "Most of the above algorithms are implemented in Sklearn, except XGBoost and Stacking which is implemented indirectly.\n",
    "\n",
    "Like said in the beginning, these types of models can be used for both regression and classification, but this assignment will consider classification domain and for giving focus on the ensemble models, we will use the same dataset we used previouly, in random forests. "
   ]
  },
  {
   "cell_type": "markdown",
   "id": "d4e2c5a6",
   "metadata": {
    "tags": []
   },
   "source": [
    "## Ensemble methods for classification"
   ]
  },
  {
   "cell_type": "markdown",
   "id": "99058d12",
   "metadata": {
    "tags": []
   },
   "source": [
    "## Imports"
   ]
  },
  {
   "cell_type": "code",
   "execution_count": null,
   "id": "df278c5f",
   "metadata": {},
   "outputs": [],
   "source": [
    "%matplotlib inline\n",
    "import numpy as np\n",
    "import pandas as pd\n",
    "import seaborn as sns\n",
    "import sklearn\n",
    "import matplotlib.pyplot as plt"
   ]
  },
  {
   "cell_type": "markdown",
   "id": "35699c38",
   "metadata": {
    "tags": []
   },
   "source": [
    "## Loading the data\n",
    "\n",
    "In this assignment, we will use Random forests to build a classifier that identify the increase or decrease of the electricity using \"the data that was collected from the Australian New South Wales Electricity Market. In this market, prices are not fixed and are affected by demand and supply of the market. They are set every five minutes. Electricity transfers to/from the neighboring state of Victoria were done to alleviate fluctuations.\"\n",
    "\n",
    "\"The dataset contains 45,312 instances dated from 7 May 1996 to 5 December 1998. Each example of the dataset refers to a period of 30 minutes, i.e. there are 48 instances for each time period of one day. Each example on the dataset has 5 fields, the day of week, the time stamp, the New South Wales electricity demand, the Victoria electricity demand, the scheduled electricity transfer between states and the class label. The class label identifies the change of the price (UP or DOWN) in New South Wales relative to a moving average of the last 24 hours (and removes the impact of longer term price trends). Source: [Open ML electricity](https://www.openml.org/d/151).\n",
    "\n",
    "Here are the information about the features:\n",
    "\n",
    "* Date: date between 7 May 1996 to 5 December 1998. Here normalized between 0 and 1 \n",
    "* Day: day of the week (1-7) \n",
    "* Period: time of the measurement (1-48) in half hour intervals over 24 hours. Here normalized between 0 and 1 \n",
    "* NSWprice: New South Wales electricity price, normalized between 0 and 1 \n",
    "* NSWdemand: New South Wales electricity demand, normalized between 0 and 1 \n",
    "* VICprice: Victoria electricity price, normalized between 0 and 1 \n",
    "* VICdemand: Victoria electricity demand, normalized between 0 and 1 \n",
    "* transfer: scheduled electricity transfer between both states, normalized between 0 and 1 "
   ]
  },
  {
   "cell_type": "code",
   "execution_count": null,
   "id": "67905ee6",
   "metadata": {},
   "outputs": [],
   "source": [
    "# Let's hide warnings\n",
    "\n",
    "import warnings\n",
    "\n",
    "warnings.filterwarnings(\"ignore\")"
   ]
  },
  {
   "cell_type": "code",
   "execution_count": null,
   "id": "d3083946",
   "metadata": {},
   "outputs": [],
   "source": [
    "elec_df = pd.read_csv(\"../../../assets/data/elec_data.csv\")"
   ]
  },
  {
   "cell_type": "code",
   "execution_count": null,
   "id": "46c09852",
   "metadata": {},
   "outputs": [],
   "source": [
    "type(elec_df)"
   ]
  },
  {
   "cell_type": "code",
   "execution_count": null,
   "id": "8689a0ed",
   "metadata": {},
   "outputs": [],
   "source": [
    "elec_df.shape"
   ]
  },
  {
   "cell_type": "code",
   "execution_count": null,
   "id": "154ed67e",
   "metadata": {},
   "outputs": [],
   "source": [
    "elec_df.head()"
   ]
  },
  {
   "cell_type": "markdown",
   "id": "05f75ff7-688f-43db-977a-9e123f7fb32a",
   "metadata": {
    "tags": []
   },
   "source": [
    "## Tasks and roles"
   ]
  },
  {
   "cell_type": "markdown",
   "id": "c492fd93",
   "metadata": {
    "tags": []
   },
   "source": [
    "### Task 1: Exploratory data analysis"
   ]
  },
  {
   "cell_type": "markdown",
   "id": "e9906083",
   "metadata": {},
   "source": [
    "Before doing exploratory analysis, as always, let's split the data into training and test sets. "
   ]
  },
  {
   "cell_type": "code",
   "execution_count": null,
   "id": "98d74144",
   "metadata": {},
   "outputs": [],
   "source": [
    "from sklearn.model_selection import train_test_split\n",
    "\n",
    "train_data, test_data = train_test_split(elec_df, test_size=0.25, random_state=20)\n",
    "\n",
    "print(\n",
    "    \"The size of training data is: {} \\nThe size of testing data is: {}\".format(\n",
    "        len(train_data), len(test_data)\n",
    "    )\n",
    ")"
   ]
  },
  {
   "cell_type": "markdown",
   "id": "c895bd5e",
   "metadata": {},
   "source": [
    "Let's take a quick look into the dataset"
   ]
  },
  {
   "cell_type": "code",
   "execution_count": null,
   "id": "f2099e6b-55e5-4c39-a470-1bbb7ffed8a8",
   "metadata": {},
   "outputs": [],
   "source": [
    "train_data.shape"
   ]
  },
  {
   "cell_type": "code",
   "execution_count": null,
   "id": "f3eb141e",
   "metadata": {},
   "outputs": [],
   "source": [
    "train_data.head(10)"
   ]
  },
  {
   "cell_type": "code",
   "execution_count": null,
   "id": "2d70e72a",
   "metadata": {},
   "outputs": [],
   "source": [
    "# Displaying the last rows\n",
    "\n",
    "train_data.tail()"
   ]
  },
  {
   "cell_type": "code",
   "execution_count": null,
   "id": "afc96380",
   "metadata": {},
   "outputs": [],
   "source": [
    "train_data.info()"
   ]
  },
  {
   "cell_type": "markdown",
   "id": "1891be01",
   "metadata": {},
   "source": [
    "Two things to draw from the dataset for now:\n",
    "\n",
    "* The target feature `class` is categorical. We will make sure to encode that during data preprocessing. \n",
    "* All numerical features are already normalized, so we won't need to normalize these type of features."
   ]
  },
  {
   "cell_type": "code",
   "execution_count": null,
   "id": "753bb539",
   "metadata": {},
   "outputs": [],
   "source": [
    "# Checking summary stats\n",
    "\n",
    "train_data.describe()"
   ]
  },
  {
   "cell_type": "code",
   "execution_count": null,
   "id": "f0e4fb67",
   "metadata": {},
   "outputs": [],
   "source": [
    "# Checking missing values\n",
    "\n",
    "train_data.isnull().sum()"
   ]
  },
  {
   "cell_type": "markdown",
   "id": "4977a1a1",
   "metadata": {},
   "source": [
    "Great, we don't have any missing values. Usually there are three things to do with if they are present:\n",
    "* We can remove all missing values completely\n",
    "* We can leave them as they are\n",
    "* We can fill them with a given strategy such as mean, media or most frequent value. Either `Sklearn` or Pandas provides a quick ways to fill these kind of values. \n",
    "\n",
    "If you still want to know more about how to deal with missing values, please refer to [this article](https://medium.com/analytics-vidhya/a-comprehensive-guide-for-handling-missing-values-990c999c49ed?source=---------11----------------------------)"
   ]
  },
  {
   "cell_type": "code",
   "execution_count": null,
   "id": "1da3a3f0",
   "metadata": {},
   "outputs": [],
   "source": [
    "# Checking feature correlation\n",
    "\n",
    "corr = train_data.corr()"
   ]
  },
  {
   "cell_type": "code",
   "execution_count": null,
   "id": "0e24c4e6",
   "metadata": {},
   "outputs": [],
   "source": [
    "## Visualizing correlation\n",
    "\n",
    "plt.figure(figsize=(12, 7))\n",
    "\n",
    "sns.heatmap(corr, annot=True, cmap=\"crest\")"
   ]
  },
  {
   "cell_type": "markdown",
   "id": "bba4e088",
   "metadata": {},
   "source": [
    "It seems that we don't have features which are too correlating. Correlation shown above varies from `-1 to 1`. If the correlation between two features is close to 1, it means that they nearly contain the same information. If it is close to -1, it means that these features contain different information.Take an example: `vicdemand` correlate with `nswdeman` at 0.67 ratio. \n",
    "\n",
    "So if you drop one of those features, it's likely that your model will not be affected much. So different to what you have seen in many articles, having features which does not correlate to the target feature doesn't mean they are not useful. \n",
    "\n",
    "In the above correlation matrix, you can see that class feature is not there and this is because it still has categorical values. "
   ]
  },
  {
   "cell_type": "markdown",
   "id": "6bb0fe21",
   "metadata": {
    "tags": []
   },
   "source": [
    "### Task 2: More data exploration\n",
    "\n",
    "Before preprocessing the data, let's take a look into specific features. "
   ]
  },
  {
   "cell_type": "markdown",
   "id": "1ebd0ab0",
   "metadata": {},
   "source": [
    "Let's see how many Ups/Downs are in the class feature."
   ]
  },
  {
   "cell_type": "code",
   "execution_count": null,
   "id": "07aa6c1d",
   "metadata": {},
   "outputs": [],
   "source": [
    "plt.figure(figsize=(12, 7))\n",
    "sns.countplot(data=train_data, x=\"class\")"
   ]
  },
  {
   "cell_type": "markdown",
   "id": "e35d0b62",
   "metadata": {},
   "source": [
    "`Day` is the days of the week, from 1-7, Monday to Sunday. Let's count the days occurences in respect to the ups/downs of the electricity's price."
   ]
  },
  {
   "cell_type": "code",
   "execution_count": null,
   "id": "2b2f8e6e",
   "metadata": {},
   "outputs": [],
   "source": [
    "plt.figure(figsize=(13, 8))\n",
    "\n",
    "sns.countplot(data=train_data, x=\"day\", hue=\"class\")"
   ]
  },
  {
   "cell_type": "markdown",
   "id": "9a0131d6",
   "metadata": {},
   "source": [
    "It seems that most days had downs. From the beginning of the week, there were consistent increase in downs(price of electricity went down) and decrease in ups.\n",
    "Let's see if there is an appealing relationship between the demand/price of electricity in New South Wales and Victoria."
   ]
  },
  {
   "cell_type": "code",
   "execution_count": null,
   "id": "52c35605",
   "metadata": {},
   "outputs": [],
   "source": [
    "plt.figure(figsize=(13, 8))\n",
    "sns.scatterplot(data=train_data, x=\"vicdemand\", y=\"nswdemand\", hue=\"class\")"
   ]
  },
  {
   "cell_type": "markdown",
   "id": "2a8607e6",
   "metadata": {},
   "source": [
    "The demand of the electricity in New South Wales and the Victoria is kind of linear. Let's see if we can get any other insights by bringing days in the demand analysis."
   ]
  },
  {
   "cell_type": "code",
   "execution_count": null,
   "id": "532f6831",
   "metadata": {},
   "outputs": [],
   "source": [
    "plt.figure(figsize=(20, 10))\n",
    "sns.scatterplot(data=train_data, x=\"vicdemand\", y=\"nswdemand\", hue=\"day\", size=\"day\")"
   ]
  },
  {
   "cell_type": "markdown",
   "id": "a00c2967",
   "metadata": {},
   "source": [
    "Although it is kind of hard to draw a strong point, there is less demand of electricity in both cities on Monday and Sunday than other days. We can use a line plot to plot the demand in both cities on the course of the days. "
   ]
  },
  {
   "cell_type": "code",
   "execution_count": null,
   "id": "7c2af8a8",
   "metadata": {},
   "outputs": [],
   "source": [
    "plt.figure(figsize=(13, 8))\n",
    "sns.lineplot(data=train_data, x=\"day\", y=\"nswdemand\", color=\"green\")"
   ]
  },
  {
   "cell_type": "code",
   "execution_count": null,
   "id": "79ca5be5",
   "metadata": {},
   "outputs": [],
   "source": [
    "plt.figure(figsize=(13, 8))\n",
    "sns.lineplot(data=train_data, x=\"day\", y=\"vicdemand\", color=\"red\")"
   ]
  },
  {
   "cell_type": "markdown",
   "id": "6c567dc3",
   "metadata": {},
   "source": [
    "Another interesting thing to look in the dataset is if there are some seasonalities/trends in the demand/price in either Victoria or New South Wales over period of time. In time series analysis, seasonality is when there is repetitive scenarios or consistent behaviours over the course of time. \n",
    "\n",
    "If you look at the demand of the electricity in both cities on the course of date (`7 May 1996 to 5 December 1998`), you can see that there are some types of seasonalities. Not 100% but it seems there is and if this dataset would have been collected for more than two years, it would probably be easy to know surely if there are seasonalities. "
   ]
  },
  {
   "cell_type": "code",
   "execution_count": null,
   "id": "b1b4b479",
   "metadata": {},
   "outputs": [],
   "source": [
    "plt.figure(figsize=(20, 10))\n",
    "sns.lineplot(data=train_data, x=\"date\", y=\"nswdemand\")"
   ]
  },
  {
   "cell_type": "code",
   "execution_count": null,
   "id": "8ee42b53",
   "metadata": {},
   "outputs": [],
   "source": [
    "plt.figure(figsize=(20, 10))\n",
    "sns.lineplot(data=train_data, x=\"date\", y=\"vicdemand\")"
   ]
  },
  {
   "cell_type": "markdown",
   "id": "3c5babb8",
   "metadata": {},
   "source": [
    "One last thing about data analysis, let's plot all histograms of the numerical features. "
   ]
  },
  {
   "cell_type": "code",
   "execution_count": null,
   "id": "1e81cd1b",
   "metadata": {},
   "outputs": [],
   "source": [
    "train_data.hist(bins=50, figsize=(15, 10))\n",
    "plt.show()"
   ]
  },
  {
   "cell_type": "markdown",
   "id": "e6733727",
   "metadata": {
    "tags": []
   },
   "source": [
    "### Task 3: Data preprocessing \n",
    "\n",
    "It is here that we prepare the data to be in the proper format for the machine learning model. \n",
    "\n",
    "Let's encode the categorical feature `class`. But before that, let's take training input data and labels."
   ]
  },
  {
   "cell_type": "code",
   "execution_count": null,
   "id": "acb7a81e",
   "metadata": {},
   "outputs": [],
   "source": [
    "X_train = train_data.drop(\"class\", axis=1)\n",
    "y_train = train_data[\"class\"]"
   ]
  },
  {
   "cell_type": "code",
   "execution_count": null,
   "id": "b7ee6d06",
   "metadata": {},
   "outputs": [],
   "source": [
    "from sklearn.preprocessing import LabelEncoder\n",
    "\n",
    "label_enc = LabelEncoder()\n",
    "y_train_prepared = label_enc.fit_transform(y_train)"
   ]
  },
  {
   "cell_type": "code",
   "execution_count": null,
   "id": "a95c92f0-4225-4467-b4e7-18d5cedf687b",
   "metadata": {},
   "outputs": [],
   "source": [
    "X_train.head()"
   ]
  },
  {
   "cell_type": "markdown",
   "id": "47dcd180-6edd-441b-a295-d17377820a54",
   "metadata": {},
   "source": [
    "Because in python, it does not make sense to perform a multiplication between a sequence (list, tuple, etc.) and a float, so for subsequent operations, we need to convert X_train into an array."
   ]
  },
  {
   "cell_type": "code",
   "execution_count": null,
   "id": "cfcb6d8e-dc49-4e28-8764-92ab9412d3d1",
   "metadata": {},
   "outputs": [],
   "source": [
    "X_train = np.array(X_train)"
   ]
  },
  {
   "cell_type": "code",
   "execution_count": null,
   "id": "5d3b2344-552f-47ce-b3d0-e7ca828ecda1",
   "metadata": {},
   "outputs": [],
   "source": [
    "X_train"
   ]
  },
  {
   "cell_type": "code",
   "execution_count": null,
   "id": "860bd062-6698-47e8-899f-ab74827bb5c2",
   "metadata": {},
   "outputs": [],
   "source": [
    "y_train_prepared"
   ]
  },
  {
   "cell_type": "markdown",
   "id": "d134d334",
   "metadata": {},
   "source": [
    "Now we are ready to train the machine learning model. \n",
    "\n",
    "But again if you look at the dat, the `day` feature is not normalized as other features. We can normalize it or leave it but for now let's go ahead and train the random forests classifier. "
   ]
  },
  {
   "cell_type": "markdown",
   "id": "dd496de6",
   "metadata": {
    "tags": []
   },
   "source": [
    "### Task 4: Training ensemble classifiers"
   ]
  },
  {
   "cell_type": "markdown",
   "id": "6d1ca126",
   "metadata": {
    "tags": []
   },
   "source": [
    "#### 4.1: Voting classifier\n",
    "\n",
    "Let's assume that you have trained 3 different classifiers on the training data but none of these classifiers had an oustanding results. \n",
    "\n",
    "The idea of Voting ensemble technique is fairly simple. We can aggregate the results of all those 3 classifiers and the result will be good than any single classifier. \n",
    "\n",
    "Let's train 3 classifiers on the training data and then we will go ahead and aggregate their results. "
   ]
  },
  {
   "cell_type": "code",
   "execution_count": null,
   "id": "a89bf679",
   "metadata": {},
   "outputs": [],
   "source": [
    "from sklearn.linear_model import LogisticRegression\n",
    "from sklearn.svm import SVC\n",
    "from sklearn.linear_model import SGDClassifier\n",
    "\n",
    "from sklearn.metrics import accuracy_score\n",
    "\n",
    "log_classifier = LogisticRegression()\n",
    "sv_classifier = SVC()\n",
    "sgd_classifier = SGDClassifier()\n",
    "\n",
    "\n",
    "def classifiers(clf1, clf2, clf3, X_train, y_train):\n",
    "\n",
    "    \"\"\"\n",
    "    A function that takes 5 inputs: 3 classifiers, training data & labels\n",
    "    And return the list of accuracies on all classifiers\n",
    "\n",
    "    \"\"\"\n",
    "\n",
    "    # A list of all classifiers\n",
    "    clfs = [clf1, clf2, clf3]\n",
    "\n",
    "    # An empty list to comprehend\n",
    "    all_clfs_acc = []\n",
    "\n",
    "    # Train each classifier, evaluate it on the training set\n",
    "    # And append the accuracy to 'all_clfs_acc'\n",
    "\n",
    "    for clf in clfs:\n",
    "\n",
    "        clf.fit(X_train, y_train)\n",
    "        preds = clf.predict(X_train)\n",
    "        acc = accuracy_score(y_train, preds)\n",
    "        acc = acc.tolist()\n",
    "        all_clfs_acc.append(acc)\n",
    "\n",
    "    return all_clfs_acc"
   ]
  },
  {
   "cell_type": "code",
   "execution_count": null,
   "id": "3c87c616",
   "metadata": {},
   "outputs": [],
   "source": [
    "classifiers(log_classifier, sv_classifier, sgd_classifier, X_train, y_train_prepared)"
   ]
  },
  {
   "cell_type": "markdown",
   "id": "6511b477",
   "metadata": {},
   "source": [
    "As you can see, the function returned 3 accuracies on the training set. The first accuracy correspond to Logistic Regression, the second is Support Vector Classifier, and the third is SGD(Stockastic Gradient Descent).\n",
    "\n",
    "Now, let us use Voting Classifier to aggregate the results of all of those 3 classifiers. "
   ]
  },
  {
   "cell_type": "code",
   "execution_count": null,
   "id": "2702c42c",
   "metadata": {},
   "outputs": [],
   "source": [
    "from sklearn.ensemble import VotingClassifier\n",
    "\n",
    "vot_classifier = VotingClassifier(\n",
    "    estimators=[\n",
    "        (\"log_reg\", log_classifier),\n",
    "        (\"svc\", sv_classifier),\n",
    "        (\"sgd\", sgd_classifier),\n",
    "    ],\n",
    "    voting=\"hard\",\n",
    ")\n",
    "\n",
    "vot_classifier.fit(X_train, y_train_prepared)"
   ]
  },
  {
   "cell_type": "markdown",
   "id": "ead16e38",
   "metadata": {},
   "source": [
    "Since we will need to calculate accuracy often, let's make a function to be calling always. "
   ]
  },
  {
   "cell_type": "code",
   "execution_count": null,
   "id": "6d6be3ca",
   "metadata": {},
   "outputs": [],
   "source": [
    "from sklearn.metrics import accuracy_score\n",
    "\n",
    "\n",
    "def accuracy(model, data, labels):\n",
    "\n",
    "    predictions = model.predict(data)\n",
    "    acc = accuracy_score(labels, predictions)\n",
    "\n",
    "    return acc"
   ]
  },
  {
   "cell_type": "markdown",
   "id": "c1147dd7",
   "metadata": {},
   "source": [
    "Let's use the above function to find the accuracy of the voting classifier"
   ]
  },
  {
   "cell_type": "code",
   "execution_count": null,
   "id": "85ddef84",
   "metadata": {},
   "outputs": [],
   "source": [
    "accuracy(vot_classifier, X_train, y_train_prepared)"
   ]
  },
  {
   "cell_type": "markdown",
   "id": "9bb6defc",
   "metadata": {},
   "source": [
    "As we can see, it slightly outperformed all individual classifiers. It's small increments in the accuracy but most of the time, it will be always better than any individual classifier. "
   ]
  },
  {
   "cell_type": "markdown",
   "id": "1dc2a113",
   "metadata": {
    "tags": []
   },
   "source": [
    "#### 4.2: Bagging classifier"
   ]
  },
  {
   "cell_type": "markdown",
   "id": "f4512f52",
   "metadata": {},
   "source": [
    "Instead of training different algorithms on the same data and average their results as Voting does, Bagging ensemble method train a single or multiple classifier/regressors on different subsets of the training data and aggregate the results on all subsets. \n",
    "\n",
    "When this is used with complex models (that overfit data easily) like decision trees, the overfitting can be reduced. "
   ]
  },
  {
   "cell_type": "markdown",
   "id": "a5e9b691",
   "metadata": {},
   "source": [
    "Let's use bagging to train 500 decision trees on different subsets of data and then average the predictions on those subsets. \n",
    "\n",
    "By setting `max_samples=0.5`, `max_features=0.5`, `bootstrap=False`, we are using random 50% subsets of training data and random 50% subsets of features. If bootstrap is `True`, ratio of those training samples are sampled from the training data with replacement and if it is False, there is no replecement. When in fact bootstrap is `False`, this is called Pasting. There are also other techniques called Random Subspaces and Random Patches and they are all based off how the samples are drawn from the data. you can learn more about these techniques and more about other hyperparameters on the [Scikit-Learn documentation](https://scikit-learn.org/stable/modules/ensemble.html#bagging). \n",
    "\n",
    "One of the great way to improve a particular machine learning model is to learn about its hyperparameters and what each stands for. So, you can learn more about Bagging [here](https://scikit-learn.org/stable/modules/ensemble.html#id2). "
   ]
  },
  {
   "cell_type": "code",
   "execution_count": null,
   "id": "c6c093bc",
   "metadata": {},
   "outputs": [],
   "source": [
    "from sklearn.ensemble import BaggingClassifier\n",
    "from sklearn.tree import DecisionTreeClassifier\n",
    "\n",
    "bag_classifier = BaggingClassifier(\n",
    "    DecisionTreeClassifier(class_weight=\"balanced\"),\n",
    "    max_samples=0.5,\n",
    "    max_features=0.5,\n",
    "    bootstrap=False,\n",
    ")\n",
    "\n",
    "bag_classifier.fit(X_train, y_train_prepared)"
   ]
  },
  {
   "cell_type": "code",
   "execution_count": null,
   "id": "057ba0bd",
   "metadata": {},
   "outputs": [],
   "source": [
    "accuracy(bag_classifier, X_train, y_train_prepared)"
   ]
  },
  {
   "cell_type": "markdown",
   "id": "f54dcd0a",
   "metadata": {},
   "source": [
    "Wow, this is much better. Bagging ensembles work well and they outperform Voting ensembles a lot. Other remarkable thing about them is that they are able to overcome the overfitting especially when used with decision trees (decision trees tend to overfit easily). Let's now see other type of ensemble models: Gradient Boosting Classifier."
   ]
  },
  {
   "cell_type": "markdown",
   "id": "fb087fef",
   "metadata": {
    "tags": []
   },
   "source": [
    "#### 4.3: Gradient boosting classifier"
   ]
  },
  {
   "cell_type": "markdown",
   "id": "9b4de4bd",
   "metadata": {},
   "source": [
    "Gradient boosting works like bagging methods. The only difference is that instead of training models on subsets of training data, models(decision trees) are trained in a sequence where each tree model takes the error of the previous tree to correct it and the sequence goes on...\n",
    "\n",
    "Simply, the initial model is trained on the full data, but then the next models minimizes the previous errors. \n",
    "\n",
    "Just like other models, gradient boosting classifier has hyperparameters but the most important ones are number of estimators or trees (`n_estimators`) and learning rate (`learning_rate`). "
   ]
  },
  {
   "cell_type": "code",
   "execution_count": null,
   "id": "b9a565fd",
   "metadata": {},
   "outputs": [],
   "source": [
    "from sklearn.ensemble import GradientBoostingClassifier\n",
    "\n",
    "grad_boost_clf = GradientBoostingClassifier(\n",
    "    n_estimators=500, learning_rate=0.8, random_state=42, max_depth=2\n",
    ")\n",
    "\n",
    "grad_boost_clf.fit(X_train, y_train_prepared)"
   ]
  },
  {
   "cell_type": "markdown",
   "id": "6012e358",
   "metadata": {},
   "source": [
    "Let's evaluate it on the training set. "
   ]
  },
  {
   "cell_type": "code",
   "execution_count": null,
   "id": "a4adf326",
   "metadata": {},
   "outputs": [],
   "source": [
    "accuracy(grad_boost_clf, X_train, y_train_prepared)"
   ]
  },
  {
   "cell_type": "markdown",
   "id": "1e5ec8fe",
   "metadata": {},
   "source": [
    "One disadvantage of the Gradient Boosting ensemble method is that it is easy to overfit, and that has to do with how they works. By minimizing the errors consecutively (tree after tree), they can be so perfect but the of course won't be perfect when fed to the test data. \n",
    "\n",
    "\n",
    "One way to avoid overfitting is to carefully choose the learning rate that scale well with the number of estimators. Although the high number of estimators can't necessarily cause overfitting (gradient boosting is a robust model), the learning rate has to be low. In other words, there is a trade off between these two hyperparameters. The higher the learning rate, the lower estimators and vice versa. If you can get a good results with low learning rate, there is a chance that it will generalize well on test too. \n",
    "\n",
    "You can spend sometime to change these two parameters and try to see their effects.\n",
    "\n",
    "For classification problems beyond two classes, Scikit-Learn recommend using [Histogram Gradient Boosting Classifier](https://scikit-learn.org/stable/modules/generated/sklearn.ensemble.HistGradientBoostingClassifier.html#sklearn.ensemble.HistGradientBoostingClassifier) which is a faster version of the Gradient Boosting Classifier. It is inspired by [Microsoft Light Gradient Boosting Machine (LightGBM)](https://github.com/Microsoft/LightGBM). LightGBM is fater, low memory usage, better performance, support distributed training and GPU, and can handle large datasets. "
   ]
  },
  {
   "cell_type": "markdown",
   "id": "b4acd82b",
   "metadata": {
    "tags": []
   },
   "source": [
    "#### 4.4: AdaBoost classifier"
   ]
  },
  {
   "cell_type": "markdown",
   "id": "a781786a",
   "metadata": {},
   "source": [
    "AdaBoost is another ensemble model in class of boosting methods. It's very much like gradient boost but instead of minimizing the error of the consecutive models, it updates the weights. \n",
    "\n",
    "So, the first model (decision tree) is trained on the full training data, the next model weights are updated based off the previous weights and so forth. \n",
    "\n",
    "The main parameters to tune to make AdaBoost work well are number of estimators and the maximum depth of each estimator. "
   ]
  },
  {
   "cell_type": "code",
   "execution_count": null,
   "id": "d026d31f",
   "metadata": {},
   "outputs": [],
   "source": [
    "from sklearn.ensemble import AdaBoostClassifier\n",
    "from sklearn.tree import DecisionTreeClassifier\n",
    "\n",
    "adaboost_clf = AdaBoostClassifier(\n",
    "    base_estimator=DecisionTreeClassifier(max_depth=3, class_weight=\"balanced\"),\n",
    "    # base estimator is decision trees by default\n",
    "    n_estimators=300,\n",
    "    learning_rate=0.5,\n",
    ")\n",
    "\n",
    "adaboost_clf.fit(X_train, y_train_prepared)"
   ]
  },
  {
   "cell_type": "markdown",
   "id": "57ee59aa",
   "metadata": {},
   "source": [
    "Let's evaluate it on the training set. "
   ]
  },
  {
   "cell_type": "code",
   "execution_count": null,
   "id": "defaed5c",
   "metadata": {},
   "outputs": [],
   "source": [
    "accuracy(adaboost_clf, X_train, y_train_prepared)"
   ]
  },
  {
   "cell_type": "markdown",
   "id": "54a92828",
   "metadata": {},
   "source": [
    "Again, you can tune the number of estimators and the depth of the base estimator. The base estimator is Decision Trees by default. "
   ]
  },
  {
   "cell_type": "markdown",
   "id": "1edafdad",
   "metadata": {
    "tags": []
   },
   "source": [
    "#### 4.5: Stacking classifier"
   ]
  },
  {
   "cell_type": "markdown",
   "id": "514b6e77",
   "metadata": {},
   "source": [
    "Also referred to as Stacked Generalization, it is an ensemble method employed to reduce the biases and the errors rate made by multiple predictors(individual models/estimators). \n",
    "\n",
    "Instead of averaging the predictions made by individual models or predictors, in stacking, multiple models are trained on the full training data and then the final model that is trained on different subsets of the training data takes the predictions of the former models and find the final predictions. \n",
    "\n",
    "From its [original paper](http://machine-learning.martinsewell.com/ensembles/stacking/Wolpert1992.pdf), it is noted that it can be seen as the sophisticated version of the cross validation (per the reason why the final estimator is trained on the subsets or folds of the training data). "
   ]
  },
  {
   "cell_type": "code",
   "execution_count": null,
   "id": "dfb29ec6",
   "metadata": {},
   "outputs": [],
   "source": [
    "from sklearn.ensemble import StackingClassifier\n",
    "from sklearn.ensemble import RandomForestClassifier\n",
    "from sklearn.linear_model import LogisticRegression\n",
    "from sklearn.svm import SVC\n",
    "\n",
    "\n",
    "base_estimators = [\n",
    "    (\"rand\", RandomForestClassifier(random_state=42)),\n",
    "    (\"svc\", SVC(random_state=42)),\n",
    "]\n",
    "\n",
    "final_estimator = LogisticRegression()\n",
    "\n",
    "stack_clf = StackingClassifier(\n",
    "    estimators=base_estimators, final_estimator=final_estimator\n",
    ")\n",
    "\n",
    "stack_clf.fit(X_train, y_train_prepared)"
   ]
  },
  {
   "cell_type": "markdown",
   "id": "f89cfbd1",
   "metadata": {},
   "source": [
    "Let's evaluate it on the training set. "
   ]
  },
  {
   "cell_type": "code",
   "execution_count": null,
   "id": "dc996c05",
   "metadata": {},
   "outputs": [],
   "source": [
    "accuracy(stack_clf, X_train, y_train_prepared)"
   ]
  },
  {
   "cell_type": "markdown",
   "id": "ee205859",
   "metadata": {},
   "source": [
    "Ohh the accuracy looks appealing! But is it really? It might be that we overfitted the training data. "
   ]
  },
  {
   "cell_type": "markdown",
   "id": "32a19b04",
   "metadata": {
    "tags": []
   },
   "source": [
    "### Task 5: Evaluating the ensemble model on the test set"
   ]
  },
  {
   "cell_type": "markdown",
   "id": "57a54e8d",
   "metadata": {},
   "source": [
    "Let's say that all we have been doing was trying to find an ensemble model that can fit well the data and so we want to test it on the test set before shipping it into production. \n",
    "\n",
    "To narrow the choice down, we will use A Gradient Boosting method. \n",
    "\n",
    "As always, we will prepare the test set in the same way that we prepared the training set. Let's go!"
   ]
  },
  {
   "cell_type": "code",
   "execution_count": null,
   "id": "7b2bfd0d",
   "metadata": {},
   "outputs": [],
   "source": [
    "X_test = test_data.drop(\"class\", axis=1)\n",
    "y_test = test_data[\"class\"]\n",
    "\n",
    "y_test_prepared = label_enc.transform(y_test)"
   ]
  },
  {
   "cell_type": "code",
   "execution_count": null,
   "id": "7399da4a",
   "metadata": {},
   "outputs": [],
   "source": [
    "accuracy(grad_boost_clf, X_test, y_test_prepared)"
   ]
  },
  {
   "cell_type": "markdown",
   "id": "b5c20222",
   "metadata": {},
   "source": [
    "That's not really bad considering that the model never saw the test data anywhere in previous steps. The Gradient boosting method had nearly 92% on the training data."
   ]
  },
  {
   "cell_type": "markdown",
   "id": "d159e702",
   "metadata": {},
   "source": [
    "Let's also evaluate the stacking classifier. It was overly optimistic on the training data, nearly 100%! "
   ]
  },
  {
   "cell_type": "code",
   "execution_count": null,
   "id": "ba6a841d",
   "metadata": {},
   "outputs": [],
   "source": [
    "accuracy(stack_clf, X_test, y_test_prepared)"
   ]
  },
  {
   "cell_type": "markdown",
   "id": "d85c23ab",
   "metadata": {},
   "source": [
    "How about trying a bag classifier also? It had nearly 98% on the training data. "
   ]
  },
  {
   "cell_type": "code",
   "execution_count": null,
   "id": "97b3d3f5",
   "metadata": {},
   "outputs": [],
   "source": [
    "accuracy(bag_classifier, X_test, y_test_prepared)"
   ]
  },
  {
   "cell_type": "markdown",
   "id": "caa83c09",
   "metadata": {},
   "source": [
    "As we can see, all of the ensembles are not generalizing well on the test set. It's not that bad again, but there is a room of improvement. One sure way to improve the results of machine learning model is to improve the data. \n",
    "\n",
    "You may also have to tune the hyperparamaters of the particular ensemble method and this works sometime too."
   ]
  },
  {
   "cell_type": "markdown",
   "id": "c1b8979e",
   "metadata": {
    "tags": []
   },
   "source": [
    "## Final note"
   ]
  },
  {
   "cell_type": "markdown",
   "id": "14f9e1f8",
   "metadata": {},
   "source": [
    "This notebook was all about ensemble learning methods. There is truly a `wisdom in the crowd`(CC: Aurelion Geron). By averaging the results of different models, we are able to improve the overall prediction. \n",
    "\n",
    "There is a notion that ensemble models are slow and expensive to run in production. It's true, but with the advent of computation power and how incredible these types of ML models work well, that's no longer issue for someone. They are complex algorithms but they can also reduce complexity. How? \n",
    "\n",
    "Think about it: Instead of building a single complex model (typically a neural network), you can build small models that will train and compute predictions faster and then average their results using a given ensemble method. By that way, you are leveraging ensemble methods to reduce complexity. \n",
    "\n",
    "To learn more about the ensemble models, you can refer to this chapter `Chapter 7 Ensemble Learning and Random Forests` of the book [Hands-On Machine Learning with Scikit-Learn, Keras and TensorFlow](https://www.oreilly.com/library/view/hands-on-machine-learning/9781492032632/). "
   ]
  },
  {
   "cell_type": "markdown",
   "id": "3d2be035",
   "metadata": {
    "tags": []
   },
   "source": [
    "## Acknowledgments\n",
    "\n",
    "Thanks to Nyandwi for creating the open-source course [Machine Learning complete](https://github.com/Nyandwi/machine_learning_complete). It inspires the majority of the content in this chapter."
   ]
  }
 ],
 "metadata": {
  "kernelspec": {
   "display_name": "Python 3 (ipykernel)",
   "language": "python",
   "name": "python3"
  },
  "language_info": {
   "codemirror_mode": {
    "name": "ipython",
    "version": 3
   },
   "file_extension": ".py",
   "mimetype": "text/x-python",
   "name": "python",
   "nbconvert_exporter": "python",
   "pygments_lexer": "ipython3",
   "version": "3.9.13"
  }
 },
 "nbformat": 4,
 "nbformat_minor": 5
}
