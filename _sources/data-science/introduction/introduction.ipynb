{
 "cells": [
  {
   "cell_type": "markdown",
   "id": "97927a3a",
   "metadata": {},
   "source": [
    "# Introduction\n",
    "\n",
    "```{figure} ../../../images/the-data-science-venn-diagram.png\n",
    "---\n",
    "name: The data science venn diagram\n",
    "---\n",
    "The data science venn diagram{cite}`TheDataScienceVennDiagram`\n",
    "\n",
    "```\n",
    "\n",
    "In this part, you will discover how Data Science is defined and learn about ethical considerations that must be considered by a data scientist. You will also learn how data is defined and learn a bit about statistics and probability, the core academic domains of Data Science.\n",
    "\n",
    "---\n",
    "\n",
    "```{tableofcontents}\n",
    "\n",
    "```\n",
    "\n",
    "---\n",
    "\n",
    "```{bibliography}\n",
    ":filter: docname in docnames\n",
    "```"
   ]
  }
 ],
 "metadata": {
  "jupytext": {
   "cell_metadata_filter": "-all",
   "formats": "md:myst",
   "text_representation": {
    "extension": ".md",
    "format_name": "myst",
    "format_version": 0.13,
    "jupytext_version": "1.11.5"
   }
  },
  "kernelspec": {
   "display_name": "Python 3",
   "language": "python",
   "name": "python3"
  },
  "language_info": {
   "codemirror_mode": {
    "name": "ipython",
    "version": 3
   },
   "file_extension": ".py",
   "mimetype": "text/x-python",
   "name": "python",
   "nbconvert_exporter": "python",
   "pygments_lexer": "ipython3",
   "version": "3.9.16"
  },
  "source_map": [
   14
  ]
 },
 "nbformat": 4,
 "nbformat_minor": 5
}