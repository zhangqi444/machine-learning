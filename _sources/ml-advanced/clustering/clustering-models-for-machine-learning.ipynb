{
 "cells": [
  {
   "cell_type": "markdown",
   "id": "4183954c",
   "metadata": {},
   "source": [
    "# Clustering models for Machine Learning\n",
    "\n",
    "Clustering is a machine learning task where it looks to find objects that resemble one another and group these into groups called clusters.  What differs clustering from other approaches in machine learning, is that things happen automatically, in fact, it's fair to say it's the opposite of supervised learning. \n",
    "\n",
    "Nigeria's diverse audience has diverse musical tastes, let's look at some music popular in Nigeria. This dataset includes data about various songs' 'danceability' score, 'acousticness', loudness, 'speechiness', popularity and energy. It will be interesting to discover patterns in this data!\n",
    "\n",
    "```{figure} ../../../images/clustering/turntable.png\n",
    "---\n",
    "name: A turntable\n",
    "---\n",
    "A turntable photographed by Marcela Laskoski on Unsplash\n",
    "```\n",
    "  \n",
    "```{tableofcontents}\n",
    "\n",
    "```"
   ]
  }
 ],
 "metadata": {
  "jupytext": {
   "cell_metadata_filter": "-all",
   "formats": "md:myst",
   "text_representation": {
    "extension": ".md",
    "format_name": "myst",
    "format_version": 0.13,
    "jupytext_version": "1.11.5"
   }
  },
  "kernelspec": {
   "display_name": "Python 3",
   "language": "python",
   "name": "python3"
  },
  "language_info": {
   "codemirror_mode": {
    "name": "ipython",
    "version": 3
   },
   "file_extension": ".py",
   "mimetype": "text/x-python",
   "name": "python",
   "nbconvert_exporter": "python",
   "pygments_lexer": "ipython3",
   "version": "3.9.16"
  },
  "source_map": [
   14
  ]
 },
 "nbformat": 4,
 "nbformat_minor": 5
}