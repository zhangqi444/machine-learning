{
 "cells": [
  {
   "cell_type": "markdown",
   "id": "c3e4197f",
   "metadata": {},
   "source": [
    "# Unsupervised learning (TBD)\n",
    "\n",
    "## K-means\n",
    "\n",
    "## PCA\n",
    "\n",
    "## LDA\n",
    "\n",
    "## Manifold learning\n",
    "\n",
    "## T-SNE\n",
    "\n",
    "## DBSCAN\n",
    "\n",
    "## Hierarchical Clustering \n",
    "\n",
    "## Feature Reduction\n",
    "\n",
    "<div hidden>\n",
    "In-Depth: Manifold Learning\n",
    "https://jakevdp.github.io/PythonDataScienceHandbook/05.10-manifold-learning.html\n",
    "\n",
    "\n",
    "</div>"
   ]
  }
 ],
 "metadata": {
  "jupytext": {
   "cell_metadata_filter": "-all",
   "formats": "md:myst",
   "text_representation": {
    "extension": ".md",
    "format_name": "myst",
    "format_version": 0.13,
    "jupytext_version": "1.11.5"
   }
  },
  "kernelspec": {
   "display_name": "Python 3",
   "language": "python",
   "name": "python3"
  },
  "language_info": {
   "codemirror_mode": {
    "name": "ipython",
    "version": 3
   },
   "file_extension": ".py",
   "mimetype": "text/x-python",
   "name": "python",
   "nbconvert_exporter": "python",
   "pygments_lexer": "ipython3",
   "version": "3.9.16"
  },
  "source_map": [
   14
  ]
 },
 "nbformat": 4,
 "nbformat_minor": 5
}