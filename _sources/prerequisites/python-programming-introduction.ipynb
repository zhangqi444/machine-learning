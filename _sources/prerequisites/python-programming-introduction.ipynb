{
 "cells": [
  {
   "cell_type": "markdown",
   "id": "289d4147",
   "metadata": {},
   "source": [
    "# Python programming introduction\n",
    "\n",
    "Python is a high-level programming language for general-purpose programming. It is an open-source, interpreted, objected-oriented programming language. Python was created by a Dutch programmer, Guido van Rossum. The name of the Python programming language was derived from a British sketch comedy series, Month Python's Flying Circus. The first version was released on February 20, 1991.\n",
    "\n",
    "Python is an easy-to-learn, powerful programming language. It has efficient high-level data structures and a simple but effective approach to object-oriented programming. Python’s elegant syntax and dynamic typing, together with its interpreted nature, make it an ideal language for scripting and rapid application development in many areas on most platforms.\n",
    "\n",
    "It is used for:\n",
    "\n",
    "- web development (server-side),\n",
    "- software development,\n",
    "- mathematics,\n",
    "- system scripting.\n",
    "\n",
    "These Python programming-related sections are designed for beginners and professionals who want to learn Python programming language. If you are in favor of videos, you may get started with this [Python for Absolute Beginners video](https://www.youtube.com/watch?v=11OYpBrhdyM).\n",
    "\n",
    "## Why Python?\n",
    "\n",
    "It is a programming language that is very close to human language and because of that, it is easy to learn and use. Python is used by various industries and companies (including Google). It has been used to develop web applications, desktop applications, system administration, and Machine Learning libraries. Python is a highly embraced language in the data science and Machine Learning community. Hope this is enough to convince you to start learning Python. Python is eating the world and you are killing it before it eats you.\n",
    "\n",
    "## Environment setup\n",
    "\n",
    "### Installing Python\n",
    "\n",
    "To run a Python script you need to install Python. Let's [download](https://www.Python.org/) Python.\n",
    "\n",
    "If you are a windows user. Click the button encircled in red.\n",
    "\n",
    "[![installing on Windows](../../images/installing_on_windows.png)](https://www.Python.org/)\n",
    "\n",
    "If you are a macOS user. Click the button encircled in red.\n",
    "\n",
    "[![installing on Mac](../../images/installing_on_macOS.png)](https://www.Python.org/)\n",
    "\n",
    "To check if Python is installed, write the following command on your device terminal.\n",
    "\n",
    "```shell\n",
    "Python --version\n",
    "```\n",
    "\n",
    "![Python Version](../../images/python_version.png)\n",
    "\n",
    "As you can see from the terminal, _Python 3.7.5_ version is used at the moment. Your version of Python might be different from mine, but it should be 3.6 or above. If you manage to see the Python version, well done. Python has been installed on your machine. Continue to the next section.\n",
    "\n",
    "### Python shell\n",
    "\n",
    "Python is an interpreted scripting language, so it does not need to be compiled. It means it executes the code line by line. Python comes with a _Python Shell (Python Interactive Shell)_. It is used to execute a single Python command and get the result.\n",
    "\n",
    "Python Shell waits for the Python code from the user. When you enter the code, it interprets the code and shows the result in the next line. Open your terminal or command prompt(cmd) and write:\n",
    "\n",
    "```shell\n",
    "python\n",
    "```\n",
    "\n",
    "![Python Scripting Shell](../../images/opening_python_shell.png)\n",
    "\n",
    "The Python interactive shell is opened and it is waiting for you to write Python code(Python script). You will write your Python script next to this symbol >>> and then click Enter.\n",
    "Let us write our very first script on the Python scripting shell.\n",
    "\n",
    "![Python script on Python shell](../../images/adding_on_python_shell.png)\n",
    "\n",
    "Well done, you wrote your first Python script on Python interactive shell. How do we close the Python interactive shell?\n",
    "\n",
    "To close the shell, next to this symbol `>>` write `exit()` command and press Enter.\n",
    "\n",
    "![Exit from the Python shell](../../images/exit_from_shell.png)\n",
    "\n",
    "Now, you know how to open the Python interactive shell and how to exit from it.\n",
    "\n",
    "Python will give you results if you write scripts that Python understands, if not it returns errors. Let's make a deliberate mistake and see what Python will return.\n",
    "\n",
    "![Invalid Syntax Error](../../images/invalid_syntax_error.png)\n",
    "\n",
    "As you can see from the returned error, Python is so clever that it knows the mistake we made and which was `Syntax Error: invalid syntax`. Using `x` as multiplication in Python is a syntax error because `x` is not the valid syntax in Python. Instead of `x`, we use an asterisk `*` for multiplication. The returned error clearly shows what to fix.\n",
    "\n",
    "The process of identifying and removing errors from a program is called _debugging_. Let us debug it by putting `*` in place of `x`.\n",
    "\n",
    "![Fixing Syntax Error](../../images/fixing_syntax_error.png)\n",
    "\n",
    "Our bug was fixed, the code ran and we got the result we were expecting. As a programmer, you will see such kinds of errors on daily basis. It is good to know how to debug. To be good at debugging you should understand what kind of errors you are facing. Some of the Python errors you may encounter are `SyntaxError`, `IndexError`, `NameError`, `ModuleNotFoundError`, `KeyError`, `ImportError`, `AttributeError`, `TypeError`, `ValueError`, `ZeroDivisionError` etc. We will see more about different Python **_error types_** in later sections.\n",
    "\n",
    "Let us practice more on how to use Python interactive shell. Go to your terminal or command prompt and write the word `Python`.\n",
    "\n",
    "![Python Scripting Shell](../../images/opening_python_shell.png)\n",
    "\n",
    "The Python interactive shell is opened. Let us do some basic mathematical operations (addition, subtraction, multiplication, division, modulus, exponential).\n",
    "\n",
    "Let us do some maths first before we write any Python code:\n",
    "\n",
    "- $ 2 + 3 = 5 $\n",
    "- $ 3 - 2 = 1 $\n",
    "- $ 3 * 2 = 6 $\n",
    "- $ 3 / 2 = 1.5 $\n",
    "- $ 3 ^ 2 = 3 x 3 = 9 $\n",
    "\n",
    "In Python we have the following additional operations:\n",
    "\n",
    "- `3 % 2 = 1` => which means finding the remainder\n",
    "- `3 // 2 = 1` => which means removing the remainder\n",
    "\n",
    "Let us change the above mathematical expressions to Python code. The Python shell has been opened and lets us write a comment at the very beginning of the shell.\n",
    "\n",
    "A _comment_ is a part of the code that is not executed by Python. So we can leave some text in our code to make our code more readable. Python does not run the comment part. Comment in Python starts with the hash(`#`) symbol.\n",
    "\n",
    "This is how you write a comment in Python"
   ]
  },
  {
   "cell_type": "code",
   "execution_count": 1,
   "id": "bcf663b0",
   "metadata": {},
   "outputs": [],
   "source": [
    "# comment starts with hash\n",
    "# this is a Python comment, because it starts with a (#) symbol"
   ]
  },
  {
   "cell_type": "markdown",
   "id": "a3153f43",
   "metadata": {},
   "source": [
    "![Maths on Python shell](../../images/maths_on_python_shell.png)\n",
    "\n",
    "Before we move on to the next section, let us practice more on the Python interactive shell. Close the opened shell by writing `exit()` on the shell and open it again and let us practice how to write text on the Python shell.\n",
    "\n",
    "![Writing String on Python shell](../../images/writing_string_on_shell.png)\n",
    "\n",
    "### Installing Visual Studio Code\n",
    "\n",
    "The Python interactive shell is good to try and test small script codes but it will not be for a big project. In the real work environment, developers use different code editors to write code. Will use Visual Studio Code. Visual Studio Code is a very popular open-source text editor. If you are a fan of Visual Studio Code, it is recommended to [download](https://code.visualstudio.com/) it. but if you are in favor of other editors, feel free to follow with what you have.\n",
    "\n",
    "[![Visual Studio Code](../../images/vscode.png)](https://code.visualstudio.com/)\n",
    "\n",
    "If you installed Visual Studio Code, let us see how to use it. If you prefer a video, you can follow this Visual Studio Code for Python [Video tutorial](https://www.youtube.com/watch?v=bn7Cx4z-vSo)\n",
    "\n",
    "#### How to use Visual Studio Code\n",
    "\n",
    "Open the Visual Studio Code by double-clicking the visual studio icon. When you open it you will get this kind of interface. Try to interact with the labeled icons.\n",
    "\n",
    "![Visual Studio Code](../../images/vscode_ui.png)\n",
    "\n",
    "Create a folder named `open-academy` on your desktop. Then open it using Visual Studio Code.\n",
    "\n",
    "![Opening Project on Visual studio](../../images/how_to_open_project_on_vscode.png)\n",
    "\n",
    "![Opening a project](../../images/opening_project.png)\n",
    "\n",
    "After opening it you will see shortcuts for creating files and folders inside of `open-academy` project's directory. As you can see below, the very first file is created as `helloworld.py`. You can do the same.\n",
    "\n",
    "![Creating a Python file](../../images/helloworld.png)\n",
    "\n",
    "After a long day of coding, you want to close your code editor, right? This is how you will close the opened project.\n",
    "\n",
    "![Closing project](../../images/closing_opened_project.png)\n",
    "\n",
    "Congratulations, you have finished setting up the development environment. Let us start coding.\n",
    "\n",
    "## Basic Python\n",
    "\n",
    "### Python syntax\n",
    "\n",
    "A Python script can be written in Python interactive shell or the code editor. A Python file has an extension `.py`.\n",
    "\n",
    "### Python indentation\n",
    "\n",
    "An indentation is a white space in a text. Indentation in many languages is used to increase code readability, however, Python uses indentation to create blocks of codes. In other programming languages, curly brackets are used to create blocks of codes instead of an indentation. One of the common bugs when writing Python code is the wrong indentation.\n",
    "\n",
    "![Indentation Error](../../images/indentation.png)\n",
    "\n",
    "### Comments\n",
    "\n",
    "Comments are very important to make the code more readable and to leave remarks in our code. Python does not run comment parts of our code. Any text starting with a hash(`#`) in Python is a comment.\n",
    "\n",
    "**Example: Single Line Comment**"
   ]
  },
  {
   "cell_type": "code",
   "execution_count": 2,
   "id": "b81e49f6",
   "metadata": {},
   "outputs": [],
   "source": [
    "# This is the first comment\n",
    "# This is the second comment\n",
    "# Python is eating the world"
   ]
  },
  {
   "cell_type": "markdown",
   "id": "375c79eb",
   "metadata": {},
   "source": [
    "**Example: Multiline Comment**\n",
    "\n",
    "The triple quote can be used for multiline comments if it is not assigned to a variable"
   ]
  },
  {
   "cell_type": "code",
   "execution_count": 3,
   "id": "1cc7c979",
   "metadata": {},
   "outputs": [
    {
     "data": {
      "text/plain": [
       "'This is multiline comment\\nmultiline comment takes multiple lines.\\nPython is eating the world\\n'"
      ]
     },
     "execution_count": 3,
     "metadata": {},
     "output_type": "execute_result"
    }
   ],
   "source": [
    "\"\"\"This is multiline comment\n",
    "multiline comment takes multiple lines.\n",
    "Python is eating the world\n",
    "\"\"\""
   ]
  },
  {
   "cell_type": "markdown",
   "id": "e8b2cd66",
   "metadata": {},
   "source": [
    "### Data types\n",
    "\n",
    "In Python, there are several types of data types. Let us get started with the most common ones. Different data types will be covered in detail in other sections. For the time being, let us just go through the different data types and get familiar with them. You do not have to have a clear understanding now.\n",
    "\n",
    "#### Number\n",
    "\n",
    "- Integer: integer(negative, zero and positive) numbers.\n",
    "    Example: ... -3, -2, -1, 0, 1, 2, 3 ...\n",
    "- Float: decimal number.\n",
    "    Example: ... -3.5, -2.25, -1.0, 0.0, 1.1, 2.2, 3.5 ...\n",
    "- Complex.\n",
    "    Example: 1 + j, 2 + 4j\n",
    "\n",
    "#### String\n",
    "\n",
    "A collection of one or more characters under a single or double quote. If a string is more than one sentence then we use a triple quote.\n",
    "\n",
    "**Example:**"
   ]
  },
  {
   "cell_type": "code",
   "execution_count": 4,
   "id": "94f3b095",
   "metadata": {},
   "outputs": [
    {
     "data": {
      "text/plain": [
       "'I hope you are enjoying the first day of open-academy Challenge'"
      ]
     },
     "execution_count": 4,
     "metadata": {},
     "output_type": "execute_result"
    }
   ],
   "source": [
    "'Asabeneh'\n",
    "'Finland'\n",
    "'Python'\n",
    "'I love teaching'\n",
    "'I hope you are enjoying the first day of open-academy Challenge'"
   ]
  },
  {
   "cell_type": "markdown",
   "id": "ed57e257",
   "metadata": {},
   "source": [
    "#### Booleans\n",
    "\n",
    "A boolean data type is either a `True` or `False` value. `T` and `F` should be always uppercase.\n",
    "\n",
    "**Example:**"
   ]
  },
  {
   "cell_type": "code",
   "execution_count": 5,
   "id": "88dcd322",
   "metadata": {},
   "outputs": [
    {
     "data": {
      "text/plain": [
       "False"
      ]
     },
     "execution_count": 5,
     "metadata": {},
     "output_type": "execute_result"
    }
   ],
   "source": [
    "True  #  Is the light on? If it is on, then the value is True\n",
    "False # Is the light on? If it is off, then the value is False"
   ]
  },
  {
   "cell_type": "markdown",
   "id": "52d646b9",
   "metadata": {},
   "source": [
    "#### List\n",
    "\n",
    "Python list is an ordered collection that allows to store items of different data types. A list is similar to an array in JavaScript.\n",
    "\n",
    "**Example:**"
   ]
  },
  {
   "cell_type": "code",
   "execution_count": 6,
   "id": "218812b0",
   "metadata": {},
   "outputs": [
    {
     "data": {
      "text/plain": [
       "['Banana', 10, False, 9.81]"
      ]
     },
     "execution_count": 6,
     "metadata": {},
     "output_type": "execute_result"
    }
   ],
   "source": [
    "[0, 1, 2, 3, 4, 5]  # all are the same data types - a list of numbers\n",
    "['Banana', 'Orange', 'Mango', 'Avocado'] # all the same data types - a list of strings (fruits)\n",
    "['Finland','Estonia', 'Sweden','Norway'] # all the same data types - a list of strings (countries)\n",
    "['Banana', 10, False, 9.81] # different data types in the list - string, integer, boolean and float"
   ]
  },
  {
   "cell_type": "markdown",
   "id": "c1fa7e59",
   "metadata": {},
   "source": [
    "#### Dictionary\n",
    "\n",
    "A Python dictionary object is an unordered collection of data in a key-value pair format.\n",
    "\n",
    "**Example:**"
   ]
  },
  {
   "cell_type": "code",
   "execution_count": 7,
   "id": "d4acf084",
   "metadata": {},
   "outputs": [
    {
     "data": {
      "text/plain": [
       "{'first_name': 'Asabeneh',\n",
       " 'last_name': 'Yetayeh',\n",
       " 'country': 'Finland',\n",
       " 'age': 250,\n",
       " 'is_married': True,\n",
       " 'skills': ['JS', 'React', 'Node', 'Python']}"
      ]
     },
     "execution_count": 7,
     "metadata": {},
     "output_type": "execute_result"
    }
   ],
   "source": [
    "{\n",
    "  'first_name':'Asabeneh',\n",
    "  'last_name':'Yetayeh',\n",
    "  'country':'Finland', \n",
    "  'age':250, \n",
    "  'is_married':True,\n",
    "  'skills':['JS', 'React', 'Node', 'Python']\n",
    "}"
   ]
  },
  {
   "cell_type": "markdown",
   "id": "76a52d56",
   "metadata": {},
   "source": [
    "#### Tuple\n",
    "\n",
    "A tuple is an ordered collection of different data types like a list, but tuples can not be modified once they are created. They are immutable.\n",
    "\n",
    "**Example:**"
   ]
  },
  {
   "cell_type": "code",
   "execution_count": 8,
   "id": "5d97db3d",
   "metadata": {},
   "outputs": [
    {
     "data": {
      "text/plain": [
       "('Asabeneh', 'Pawel', 'Brook', 'Abraham', 'Lidiya')"
      ]
     },
     "execution_count": 8,
     "metadata": {},
     "output_type": "execute_result"
    }
   ],
   "source": [
    "('Asabeneh', 'Pawel', 'Brook', 'Abraham', 'Lidiya') # Names"
   ]
  },
  {
   "cell_type": "code",
   "execution_count": 9,
   "id": "69bcf26d",
   "metadata": {},
   "outputs": [
    {
     "data": {
      "text/plain": [
       "('Earth', 'Jupiter', 'Neptune', 'Mars', 'Venus', 'Saturn', 'Uranus', 'Mercury')"
      ]
     },
     "execution_count": 9,
     "metadata": {},
     "output_type": "execute_result"
    }
   ],
   "source": [
    "('Earth', 'Jupiter', 'Neptune', 'Mars', 'Venus', 'Saturn', 'Uranus', 'Mercury') # planets"
   ]
  },
  {
   "cell_type": "markdown",
   "id": "ebc09189",
   "metadata": {},
   "source": [
    "#### Set\n",
    "\n",
    "A set is a collection of data types similar to a list and tuple. Unlike the list and the tuple, a set is not an ordered collection of items. Like in Mathematics, set in Python only stores unique items. In later sections, we will go into detail about every Python data type.\n",
    "\n",
    "**Example:**"
   ]
  },
  {
   "cell_type": "code",
   "execution_count": 10,
   "id": "febca936",
   "metadata": {},
   "outputs": [
    {
     "data": {
      "text/plain": [
       "{2.7, 3.14, 9.81}"
      ]
     },
     "execution_count": 10,
     "metadata": {},
     "output_type": "execute_result"
    }
   ],
   "source": [
    "{2, 4, 3, 5}\n",
    "{3.14, 9.81, 2.7} # order is not important in set"
   ]
  },
  {
   "cell_type": "markdown",
   "id": "2e56f4d3",
   "metadata": {},
   "source": [
    "### Checking data types\n",
    "\n",
    "To check the data type of certain data/variables we use the `type` function. In the following terminal you will see different Python data types:\n",
    "\n",
    "![Checking Data types](../../images/checking_data_types.png)\n",
    "\n",
    "### Python file\n",
    "\n",
    "First open your project folder, `open-academy`. If you don't have this folder, create a folder name called `open-academy`. Inside this folder, create a file called `helloworld.py`. Now, let's do what we did on Python interactive shell using Visual Studio Code.\n",
    "\n",
    "The Python interactive shell was printing without using `print` but on Visual Studio Code to see our result we should use a built-in function `print()`. The `print()` built-in function takes one or more arguments as follows `print('arument1', 'argument2', 'argument3')`. See the examples below.\n",
    "\n",
    "**Example:**\n",
    "\n",
    "The file name is `helloworld.py`."
   ]
  },
  {
   "cell_type": "code",
   "execution_count": 11,
   "id": "423fa332",
   "metadata": {},
   "outputs": [
    {
     "name": "stdout",
     "output_type": "stream",
     "text": [
      "5\n",
      "2\n",
      "6\n",
      "1.5\n",
      "9\n",
      "1\n",
      "1\n",
      "<class 'int'>\n",
      "<class 'float'>\n",
      "<class 'complex'>\n",
      "<class 'str'>\n",
      "<class 'list'>\n",
      "<class 'dict'>\n",
      "<class 'set'>\n",
      "<class 'tuple'>\n"
     ]
    }
   ],
   "source": [
    "print(2 + 3)             # addition(+)\n",
    "print(3 - 1)             # subtraction(-)\n",
    "print(2 * 3)             # multiplication(*)\n",
    "print(3 / 2)             # division(/)\n",
    "print(3 ** 2)            # exponential(**)\n",
    "print(3 % 2)             # modulus(%)\n",
    "print(3 // 2)            # Floor division operator(//)\n",
    "\n",
    "# Checking data types\n",
    "print(type(10))          # Int\n",
    "print(type(3.14))        # Float\n",
    "print(type(1 + 3j))      # Complex number\n",
    "print(type('Asabeneh'))  # String\n",
    "print(type([1, 2, 3]))   # List\n",
    "print(type({'name':'Asabeneh'})) # Dictionary\n",
    "print(type({9.8, 3.14, 2.7}))    # Set\n",
    "print(type((9.8, 3.14, 2.7)))    # Tuple"
   ]
  },
  {
   "cell_type": "markdown",
   "id": "6b5087aa",
   "metadata": {},
   "source": [
    "To run the Python file check the image below. You can run the Python file either by running the green button on Visual Studio Code or by typing `Python helloworld.py` in the terminal.\n",
    "\n",
    "![Running Python script](../../images/running_python_script.png)\n",
    "\n",
    "🌕  You are amazing. You have just completed our challenge and you are on your way to greatness. Now do some exercises for your brain and muscles.\n",
    "\n",
    "## Your turn! 🚀\n",
    "\n",
    "Try to [write some simple Python code](../assignments/prerequisites/python-programming-introduction.ipynb) through Python shell, Python file, and Jupyter Notebook.\n",
    "\n",
    "## Acknowledgments\n",
    "\n",
    "Thanks to [Asabeneh](https://github.com/Asabeneh) who helped create this awesome open-source project [30-Days-Of-Python](https://github.com/Asabeneh/30-Days-Of-Python/blob/master/readme.md) for Python learning. It contributes the majority of the content in this chapter."
   ]
  }
 ],
 "metadata": {
  "jupytext": {
   "cell_metadata_filter": "-all",
   "formats": "md:myst",
   "text_representation": {
    "extension": ".md",
    "format_name": "myst",
    "format_version": 0.13,
    "jupytext_version": "1.11.5"
   }
  },
  "kernelspec": {
   "display_name": "Python 3",
   "language": "Python",
   "name": "Python3"
  },
  "language_info": {
   "codemirror_mode": {
    "name": "ipython",
    "version": 3
   },
   "file_extension": ".py",
   "mimetype": "text/x-python",
   "name": "python",
   "nbconvert_exporter": "python",
   "pygments_lexer": "ipython3",
   "version": "3.9.16"
  },
  "source_map": [
   14,
   121,
   124,
   180,
   184,
   190,
   195,
   216,
   222,
   230,
   233,
   241,
   246,
   254,
   263,
   271,
   275,
   277,
   285,
   288,
   306,
   324
  ]
 },
 "nbformat": 4,
 "nbformat_minor": 5
}