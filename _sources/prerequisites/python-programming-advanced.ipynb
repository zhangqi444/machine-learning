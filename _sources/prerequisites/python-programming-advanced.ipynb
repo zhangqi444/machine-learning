{
 "cells": [
  {
   "cell_type": "markdown",
   "id": "7df581a9",
   "metadata": {},
   "source": [
    "<details>\n",
    "\n",
    "<summary><b>LICENSE</b></summary>\n",
    "\n",
    "MIT License\n",
    "\n",
    "Copyright (c) 2018 Oleksii Trekhleb\n",
    "\n",
    "Permission is hereby granted, free of charge, to any person obtaining a copy\n",
    "of this software and associated documentation files (the \"Software\"), to deal\n",
    "in the Software without restriction, including without limitation the rights\n",
    "to use, copy, modify, merge, publish, distribute, sublicense, and/or sell\n",
    "copies of the Software, and to permit persons to whom the Software is\n",
    "furnished to do so, subject to the following conditions:\n",
    "\n",
    "The above copyright notice and this permission notice shall be included in all\n",
    "copies or substantial portions of the Software.\n",
    "\n",
    "THE SOFTWARE IS PROVIDED \"AS IS\", WITHOUT WARRANTY OF ANY KIND, EXPRESS OR\n",
    "IMPLIED, INCLUDING BUT NOT LIMITED TO THE WARRANTIES OF MERCHANTABILITY,\n",
    "FITNESS FOR A PARTICULAR PURPOSE AND NONINFRINGEMENT. IN NO EVENT SHALL THE\n",
    "AUTHORS OR COPYRIGHT HOLDERS BE LIABLE FOR ANY CLAIM, DAMAGES OR OTHER\n",
    "LIABILITY, WHETHER IN AN ACTION OF CONTRACT, TORT OR OTHERWISE, ARISING FROM,\n",
    "OUT OF OR IN CONNECTION WITH THE SOFTWARE OR THE USE OR OTHER DEALINGS IN THE\n",
    "SOFTWARE.\n",
    "\n",
    "</details>\n",
    "\n",
    "# Python programming advanced"
   ]
  },
  {
   "cell_type": "code",
   "execution_count": 1,
   "id": "b346f2ca",
   "metadata": {
    "tags": [
     "hide-input"
    ]
   },
   "outputs": [],
   "source": [
    "# append the path for resolving the dependencies while building Jupyter Book\n",
    "import sys, os\n",
    "sys.path.append('../assets/code/prerequisites')"
   ]
  },
  {
   "cell_type": "markdown",
   "id": "1cf32b94",
   "metadata": {},
   "source": [
    "## Control flow\n",
    "\n",
    "### The if statement\n",
    "\n",
    "There can be zero or more `elif` parts, and the else part is optional. The keyword `elif` is short for ‘else if’, and is useful to avoid excessive indentation.\n",
    "\n",
    "An `if … elif … elif …` sequence is a substitute for the switch or case statements found in other languages.\n",
    "\n",
    "```{seealso}\n",
    "- https://docs.python.org/3/tutorial/controlflow.html\n",
    "```"
   ]
  },
  {
   "cell_type": "code",
   "execution_count": 2,
   "id": "89ae82dd",
   "metadata": {},
   "outputs": [],
   "source": [
    "number = 15\n",
    "conclusion = ''\n",
    "\n",
    "if number < 0:\n",
    "    conclusion = 'Number is less than zero'\n",
    "elif number == 0:\n",
    "    conclusion = 'Number equals to zero'\n",
    "elif number < 1:\n",
    "    conclusion = 'Number is greater than zero but less than one'\n",
    "else:\n",
    "    conclusion = 'Number bigger than or equal to one'\n",
    "\n",
    "assert conclusion == 'Number bigger than or equal to one'"
   ]
  },
  {
   "cell_type": "markdown",
   "id": "4cf0a810",
   "metadata": {},
   "source": [
    "### The for statement (and range() function)\n",
    "\n",
    "The `for` statement in Python differs a bit from what you may be used to in C or Pascal. Rather than always iterating over an arithmetic progression of numbers (like in Pascal), or giving the user the ability to define both the iteration step and halting condition (as C), Python’s for statement iterates over the items of any sequence (a list or a string), in the order that they appear in the sequence. For example (no pun intended):\n",
    "\n",
    "Measure some strings:\n",
    "\n",
    "- \"cat\" length is 3. \n",
    "- \"window\" length is 6. \n",
    "- \"defenestrate\" length is 12."
   ]
  },
  {
   "cell_type": "code",
   "execution_count": 3,
   "id": "28b46df5",
   "metadata": {},
   "outputs": [],
   "source": [
    "words = ['cat', 'window', 'defenestrate']\n",
    "words_length = 0\n",
    "\n",
    "for word in words:\n",
    "    words_length += len(word)\n",
    "\n",
    "assert words_length == (3 + 6 + 12)"
   ]
  },
  {
   "cell_type": "markdown",
   "id": "20c8e62f",
   "metadata": {},
   "source": [
    "If you need to modify the sequence you are iterating over while inside the loop (for example to duplicate selected items), it is recommended that you first make a copy. Iterating over a sequence does not implicitly make a copy. The slice notation makes this especially convenient:"
   ]
  },
  {
   "cell_type": "code",
   "execution_count": 4,
   "id": "e489af1d",
   "metadata": {},
   "outputs": [],
   "source": [
    "for word in words[:]:  # Loop over a slice copy of the entire list.\n",
    "    if len(word) > 6:\n",
    "        words.insert(0, word)"
   ]
  },
  {
   "cell_type": "markdown",
   "id": "ca461715",
   "metadata": {},
   "source": [
    "Otherwise, with `for w in words`, the example would attempt to create an infinite list, inserting defenestrate over and over again."
   ]
  },
  {
   "cell_type": "code",
   "execution_count": 5,
   "id": "54ad95e8",
   "metadata": {},
   "outputs": [],
   "source": [
    "assert words == ['defenestrate', 'cat', 'window', 'defenestrate']"
   ]
  },
  {
   "cell_type": "markdown",
   "id": "d350fa3d",
   "metadata": {},
   "source": [
    "If you do need to iterate over a sequence of numbers, the built-in function `range()` comes in handy. It generates arithmetic progressions:"
   ]
  },
  {
   "cell_type": "code",
   "execution_count": 6,
   "id": "945844f9",
   "metadata": {},
   "outputs": [],
   "source": [
    "iterated_numbers = []\n",
    "\n",
    "for number in range(5):\n",
    "    iterated_numbers.append(number)\n",
    "\n",
    "assert iterated_numbers == [0, 1, 2, 3, 4]"
   ]
  },
  {
   "cell_type": "markdown",
   "id": "89d7b39d",
   "metadata": {},
   "source": [
    "To iterate over the indices of a sequence, you can combine `range()` and `len()` as follows:"
   ]
  },
  {
   "cell_type": "code",
   "execution_count": 7,
   "id": "e3be9e2c",
   "metadata": {},
   "outputs": [],
   "source": [
    "words = ['Mary', 'had', 'a', 'little', 'lamb']\n",
    "concatenated_string = ''\n",
    "\n",
    "# pylint: disable=consider-using-enumerate\n",
    "for word_index in range(len(words)):\n",
    "    concatenated_string += words[word_index] + ' '\n",
    "\n",
    "assert concatenated_string == 'Mary had a little lamb '"
   ]
  },
  {
   "cell_type": "markdown",
   "id": "56134d75",
   "metadata": {},
   "source": [
    "Or simply use `enumerate()`."
   ]
  },
  {
   "cell_type": "code",
   "execution_count": 8,
   "id": "dd00cbb6",
   "metadata": {},
   "outputs": [],
   "source": [
    "concatenated_string = ''\n",
    "\n",
    "for word_index, word in enumerate(words):\n",
    "    concatenated_string += word + ' '\n",
    "\n",
    "assert concatenated_string == 'Mary had a little lamb '"
   ]
  },
  {
   "cell_type": "markdown",
   "id": "09e994ea",
   "metadata": {},
   "source": [
    "When looping through dictionaries, the key and corresponding value can be retrieved at the same time using the `items()` method."
   ]
  },
  {
   "cell_type": "code",
   "execution_count": 9,
   "id": "bc7e60bb",
   "metadata": {},
   "outputs": [],
   "source": [
    "knights_names = []\n",
    "knights_properties = []\n",
    "\n",
    "knights = {'gallahad': 'the pure', 'robin': 'the brave'}\n",
    "for key, value in knights.items():\n",
    "    knights_names.append(key)\n",
    "    knights_properties.append(value)\n",
    "\n",
    "assert knights_names == ['gallahad', 'robin']\n",
    "assert knights_properties == ['the pure', 'the brave']"
   ]
  },
  {
   "cell_type": "markdown",
   "id": "7784ca53",
   "metadata": {},
   "source": [
    "When looping through a sequence, the position index and corresponding value can be retrieved at the same time using the `enumerate()` function"
   ]
  },
  {
   "cell_type": "code",
   "execution_count": 10,
   "id": "d4c6eb14",
   "metadata": {},
   "outputs": [],
   "source": [
    "indices = []\n",
    "values = []\n",
    "for index, value in enumerate(['tic', 'tac', 'toe']):\n",
    "    indices.append(index)\n",
    "    values.append(value)\n",
    "\n",
    "assert indices == [0, 1, 2]\n",
    "assert values == ['tic', 'tac', 'toe']"
   ]
  },
  {
   "cell_type": "markdown",
   "id": "67ab50bf",
   "metadata": {},
   "source": [
    "To loop over two or more sequences at the same time, the entries can be paired with the `zip()` function. In many ways, the object returned by `range()` behaves as if it is a list, but in fact, it isn’t. It is an object which returns the successive items of the desired sequence when you iterate over it, but it doesn’t really make the list, thus saving space.\n",
    "\n",
    "We say such an object is iterable, that is, suitable as a target for functions and constructs that expect something from which they can obtain successive items until the supply is exhausted. We have seen that the for statement is such an iterator. The function `list()` is another; it creates lists from iterables:\n",
    "\n",
    "The given end point is never part of the generated sequence; `range(10)` generates 10 values, the legal indices for items of a sequence of length 10. It is possible to let the range start at another number, or to specify a different increment (even negative; sometimes this is called the ‘step’):"
   ]
  },
  {
   "cell_type": "code",
   "execution_count": 11,
   "id": "f213f973",
   "metadata": {},
   "outputs": [],
   "source": [
    "assert list(range(5)) == [0, 1, 2, 3, 4]\n",
    "assert list(range(5, 10)) == [5, 6, 7, 8, 9]\n",
    "assert list(range(0, 10, 3)) == [0, 3, 6, 9]\n",
    "assert list(range(-10, -100, -30)) == [-10, -40, -70]"
   ]
  },
  {
   "cell_type": "markdown",
   "id": "e66b5420",
   "metadata": {},
   "source": [
    "### The while statement\n",
    "\n",
    "The while loop executes as long as the condition remains true. In Python, like in C, any non-zero integer value is true; zero is false. The condition may also be a string or list value, in fact, any sequence; anything with a non-zero length is true, and empty sequences are false.\n",
    "\n",
    "The test used in the example is a simple comparison. The standard comparison operators are written the same as in C: `<` (less than), `>` (greater than), `==` (equal to), `<=` (less than or equal to), `>=` (greater than or equal to) and `!=` (not equal to).\n",
    "\n",
    "```{seealso}\n",
    "- https://docs.python.org/3/tutorial/controlflow.html\n",
    "- https://docs.python.org/3/reference/compound_stmts.html#the-while-statement\n",
    "```\n",
    "\n",
    "Let's raise the number to certain power using a while loop."
   ]
  },
  {
   "cell_type": "code",
   "execution_count": 12,
   "id": "443fcc97",
   "metadata": {},
   "outputs": [],
   "source": [
    "number = 2\n",
    "power = 5\n",
    "result = 1\n",
    "\n",
    "while power > 0:\n",
    "    result *= number\n",
    "    power -= 1\n",
    "\n",
    "# 2^5 = 32\n",
    "assert result == 32"
   ]
  },
  {
   "cell_type": "markdown",
   "id": "3d7f8f70",
   "metadata": {},
   "source": [
    "### The try statement\n",
    "\n",
    "The try statement is used for exception handling.\n",
    "\n",
    "When an error occurs, or an exception as we call it, Python will normally stop and generate an error message. These exceptions can be handled using the try statement:\n",
    "\n",
    "- The `try` block lets you test a block of code for errors.\n",
    "- The `except` block lets you handle the error.\n",
    "- The `else` block lets you execute the code if no errors were raised.\n",
    "- The `finally` block lets you execute code, regardless of the result of the `try` and `except` blocks.\n",
    "\n",
    "```{seealso}\n",
    "- https://www.w3schools.com/python/python_try_except.asp\n",
    "```\n",
    "\n",
    "The try block will generate an error because x is not defined:"
   ]
  },
  {
   "cell_type": "code",
   "execution_count": 13,
   "id": "647bd52f",
   "metadata": {},
   "outputs": [],
   "source": [
    "exception_has_been_caught = False\n",
    "\n",
    "try:\n",
    "    # pylint: disable=undefined-variable\n",
    "    print(not_existing_variable)\n",
    "except NameError:\n",
    "    exception_has_been_caught = True\n",
    "\n",
    "assert exception_has_been_caught"
   ]
  },
  {
   "cell_type": "markdown",
   "id": "bdc8c554",
   "metadata": {},
   "source": [
    "You can define as many exception blocks as you want, e.g. if you want to execute a special block of code for a special kind of error:"
   ]
  },
  {
   "cell_type": "code",
   "execution_count": 14,
   "id": "0a0074f0",
   "metadata": {},
   "outputs": [],
   "source": [
    "exception_message = ''\n",
    "\n",
    "try:\n",
    "    # pylint: disable=undefined-variable\n",
    "    print(not_existing_variable)\n",
    "except NameError:\n",
    "    exception_message = 'Variable is not defined'\n",
    "\n",
    "assert exception_message == 'Variable is not defined'"
   ]
  },
  {
   "cell_type": "markdown",
   "id": "5c94bb73",
   "metadata": {},
   "source": [
    "You can use the else keyword to define a block of code to be executed if no errors were raised."
   ]
  },
  {
   "cell_type": "code",
   "execution_count": 15,
   "id": "bbd26711",
   "metadata": {},
   "outputs": [],
   "source": [
    "message = ''\n",
    "# pylint: disable=broad-except\n",
    "try:\n",
    "    message += 'Success.'\n",
    "except NameError:\n",
    "    message += 'Something went wrong.'\n",
    "else:\n",
    "    message += 'Nothing went wrong.'\n",
    "\n",
    "assert message == 'Success.Nothing went wrong.'"
   ]
  },
  {
   "cell_type": "markdown",
   "id": "0427a469",
   "metadata": {},
   "source": [
    "The final block, if specified, will be executed regardless if the `try` block raises an error or not."
   ]
  },
  {
   "cell_type": "code",
   "execution_count": 16,
   "id": "1388fd42",
   "metadata": {},
   "outputs": [],
   "source": [
    "message = ''\n",
    "try:\n",
    "    # pylint: undefined-variable\n",
    "    print(not_existing_variable)  # noqa: F821\n",
    "except NameError:\n",
    "    message += 'Something went wrong.'\n",
    "finally:\n",
    "    message += 'The \"try except\" is finished.'\n",
    "\n",
    "assert message == 'Something went wrong.The \"try except\" is finished.'"
   ]
  },
  {
   "cell_type": "markdown",
   "id": "a66e1c67",
   "metadata": {},
   "source": [
    "### The break statement\n",
    "\n",
    "The break statement, like in C, breaks out of the innermost enclosing \"for\" or \"while\" loop.\n",
    "\n",
    "```{seealso}\n",
    "- https://docs.python.org/3/tutorial/controlflow.html\n",
    "```"
   ]
  },
  {
   "cell_type": "code",
   "execution_count": 17,
   "id": "92aa0c6b",
   "metadata": {},
   "outputs": [],
   "source": [
    "# Let's terminate the loop in case if we've found the number we need in a range from 0 to 100.\n",
    "number_to_be_found = 42\n",
    "# This variable will record how many time we've entered the \"for\" loop.\n",
    "number_of_iterations = 0\n",
    "\n",
    "for number in range(100):\n",
    "    if number == number_to_be_found:\n",
    "        # Break here and don't continue the loop.\n",
    "        break\n",
    "    else:\n",
    "        number_of_iterations += 1\n",
    "\n",
    "# We need to make sure that break statement has terminated the loop once it found the number.\n",
    "assert number_of_iterations == 42"
   ]
  },
  {
   "cell_type": "markdown",
   "id": "1be71d60",
   "metadata": {},
   "source": [
    "### The continue statement\n",
    "\n",
    "The continue statement is borrowed from C, and continues with the next iteration of the loop.\n",
    "\n",
    "```{seealso}\n",
    "- https://docs.python.org/3/tutorial/controlflow.html\n",
    "```"
   ]
  },
  {
   "cell_type": "code",
   "execution_count": 18,
   "id": "b51c9654",
   "metadata": {},
   "outputs": [],
   "source": [
    "# This list will contain only even numbers from the range.\n",
    "even_numbers = []\n",
    "# This list will contain every other numbers (in this case - ods).\n",
    "rest_of_the_numbers = []\n",
    "\n",
    "for number in range(0, 10):\n",
    "    # Check if remainder after division is zero (which would mean that number is even).\n",
    "    if number % 2 == 0:\n",
    "        even_numbers.append(number)\n",
    "        # Stop current loop iteration and go to the next one immediately.\n",
    "        continue\n",
    "\n",
    "    rest_of_the_numbers.append(number)\n",
    "\n",
    "assert even_numbers == [0, 2, 4, 6, 8]\n",
    "assert rest_of_the_numbers == [1, 3, 5, 7, 9]"
   ]
  },
  {
   "cell_type": "markdown",
   "id": "4c29bb5b",
   "metadata": {},
   "source": [
    "## Functions\n",
    "\n",
    "### Function definition (def and return statements)\n",
    "\n",
    "The keyword def introduces a function definition. It must be followed by the function name and the parenthesized list of formal parameters. The statements that form the body of the function start at the next line and must be indented.\n",
    "\n",
    "```{seealso}\n",
    "- https://docs.python.org/3/tutorial/controlflow.html#defining-functions\n",
    "- https://www.thecodeship.com/patterns/guide-to-python-function-decorators/\n",
    "```"
   ]
  },
  {
   "cell_type": "code",
   "execution_count": 19,
   "id": "7bd45bce",
   "metadata": {},
   "outputs": [],
   "source": [
    "def fibonacci_function_example(number_limit):\n",
    "    \"\"\"Generate a Fibonacci series up to number_limit.\n",
    "    \n",
    "    The first statement of the function body can optionally be a string literal; this string literal is the function’s documentation string, or docstring. There are tools which use docstrings to automatically produce online or printed documentation, or to let the user interactively browse through code; it’s good practice to include docstrings in code that you write, so make a habit of it.\n",
    "    \"\"\"\n",
    "\n",
    "    # The execution of a function introduces a new symbol table used for the local variables of the\n",
    "    # function. More precisely, all variable assignments in a function store the value in the local\n",
    "    # symbol table; whereas variable references first look in the local symbol table, then in the\n",
    "    # local symbol tables of enclosing functions, then in the global symbol table, and finally in\n",
    "    # the table of built-in names. Thus, global variables cannot be directly assigned a value\n",
    "    # within a function (unless named in a global statement), although they may be referenced.\n",
    "    fibonacci_list = []\n",
    "    previous_number, current_number = 0, 1\n",
    "    while previous_number < number_limit:\n",
    "        # The statement result.append(a) calls a method of the list object result. A method is a\n",
    "        # function that ‘belongs’ to an object and is named obj.methodname, where obj is some\n",
    "        # object (this may be an expression), and methodname is the name of a method that is\n",
    "        # defined by the object’s type. Different types define different methods. Methods of\n",
    "        # different types may have the same name without causing ambiguity. (It is possible to\n",
    "        # define your own object types and methods, using classes, see Classes) The method\n",
    "        # append() shown in the example is defined for list objects; it adds a new element at\n",
    "        # the end of the list. In this example it is equivalent to result = result + [a], but\n",
    "        # more efficient.\n",
    "        fibonacci_list.append(previous_number)\n",
    "        # This is multiple assignment statement. We make current number to be previous one and the\n",
    "        # sum of previous and current to be a new current.\n",
    "        previous_number, current_number = current_number, previous_number + current_number\n",
    "\n",
    "    # The return statement returns with a value from a function. return without an expression\n",
    "    # argument returns None. Falling off the end of a function also returns None.\n",
    "    return fibonacci_list"
   ]
  },
  {
   "cell_type": "markdown",
   "id": "a4d71b94",
   "metadata": {},
   "source": [
    "Now call the function we just defined."
   ]
  },
  {
   "cell_type": "code",
   "execution_count": 20,
   "id": "5f7d078c",
   "metadata": {},
   "outputs": [],
   "source": [
    "assert fibonacci_function_example(300) == [0, 1, 1, 2, 3, 5, 8, 13, 21, 34, 55, 89, 144, 233]"
   ]
  },
  {
   "cell_type": "markdown",
   "id": "b17a2af9",
   "metadata": {},
   "source": [
    "A function definition introduces the function name in the current symbol table. The value of the function name has a type that is recognized by the interpreter as a user-defined function. This value can be assigned to another name which can then also be used as a function.\n",
    "\n",
    "This serves as a general renaming mechanism."
   ]
  },
  {
   "cell_type": "code",
   "execution_count": 21,
   "id": "02285402",
   "metadata": {},
   "outputs": [],
   "source": [
    "fibonacci_function_clone = fibonacci_function_example\n",
    "assert fibonacci_function_clone(300) == [0, 1, 1, 2, 3, 5, 8, 13, 21, 34, 55, 89, 144, 233]"
   ]
  },
  {
   "cell_type": "markdown",
   "id": "38d9e7ef",
   "metadata": {},
   "source": [
    "In Python, functions are first-class citizens, they are objects and that means we can do a lot of useful stuff with them.\n",
    "\n",
    "Assign functions to variables."
   ]
  },
  {
   "cell_type": "code",
   "execution_count": 22,
   "id": "d43ab2e4",
   "metadata": {},
   "outputs": [],
   "source": [
    "def greet(name):\n",
    "    return 'Hello, ' + name\n",
    "\n",
    "greet_someone = greet\n",
    "\n",
    "assert greet_someone('John') == 'Hello, John'"
   ]
  },
  {
   "cell_type": "markdown",
   "id": "26e444e8",
   "metadata": {},
   "source": [
    "Define functions inside other functions."
   ]
  },
  {
   "cell_type": "code",
   "execution_count": 23,
   "id": "0f4da643",
   "metadata": {},
   "outputs": [],
   "source": [
    "def greet_again(name):\n",
    "    def get_message():\n",
    "        return 'Hello, '\n",
    "\n",
    "    result = get_message() + name\n",
    "    return result\n",
    "\n",
    "assert greet_again('John') == 'Hello, John'"
   ]
  },
  {
   "cell_type": "markdown",
   "id": "886e2273",
   "metadata": {},
   "source": [
    "Functions can be passed as parameters to other functions."
   ]
  },
  {
   "cell_type": "code",
   "execution_count": 24,
   "id": "76d523e9",
   "metadata": {},
   "outputs": [],
   "source": [
    "def greet_one_more(name):\n",
    "    return 'Hello, ' + name\n",
    "\n",
    "def call_func(func):\n",
    "    other_name = 'John'\n",
    "    return func(other_name)\n",
    "\n",
    "assert call_func(greet_one_more) == 'Hello, John'"
   ]
  },
  {
   "cell_type": "markdown",
   "id": "2a6da8e8",
   "metadata": {},
   "source": [
    "Functions can return other functions. In other words, functions generate other functions."
   ]
  },
  {
   "cell_type": "code",
   "execution_count": 25,
   "id": "7cb4cf3d",
   "metadata": {},
   "outputs": [],
   "source": [
    "def compose_greet_func():\n",
    "    def get_message():\n",
    "        return 'Hello there!'\n",
    "\n",
    "    return get_message\n",
    "\n",
    "greet_function = compose_greet_func()\n",
    "assert greet_function() == 'Hello there!'"
   ]
  },
  {
   "cell_type": "markdown",
   "id": "e440b1f6",
   "metadata": {},
   "source": [
    "Inner functions have access to the enclosing scope.\n",
    "\n",
    "More commonly known as a closure. A very powerful pattern that we will come across while building decorators. Another thing to note, Python only allows read access to the outer scope and not assignment. Notice how we modified the example above to read a `name` argument from the enclosing scope of the inner function and return the new function."
   ]
  },
  {
   "cell_type": "code",
   "execution_count": 26,
   "id": "54572806",
   "metadata": {},
   "outputs": [],
   "source": [
    "def compose_greet_func_with_closure(name):\n",
    "    def get_message():\n",
    "        return 'Hello there, ' + name + '!'\n",
    "\n",
    "    return get_message\n",
    "\n",
    "greet_with_closure = compose_greet_func_with_closure('John')\n",
    "\n",
    "assert greet_with_closure() == 'Hello there, John!'"
   ]
  },
  {
   "cell_type": "markdown",
   "id": "6cb242d7",
   "metadata": {},
   "source": [
    "### Scopes of variables inside functions (global and nonlocal statements)\n",
    "\n",
    "A NAMESPACE is a mapping from names to objects. Most namespaces are currently implemented as Python dictionaries, but that’s normally not noticeable in any way (except for performance), and it may change in the future. Examples of namespaces are the set of built-in names (containing functions such as `abs()`, and built-in exception names); the global names in a module; and the local names in a function invocation. In a sense, the set of attributes of an object also forms a namespace.\n",
    "\n",
    "The important thing to know about namespaces is that there is absolutely no relation between names in different namespaces; for instance, two different modules may both define a function `maximize` without confusion — users of the modules must prefix it with the module name.\n",
    "\n",
    "By the way, we use the word attribute for any name following a dot — for example, in the expression `z.real`, `real` is an attribute of the object `z`. Strictly speaking, references to names in modules are attribute references: in the expression `modname.func_name`, `modname` is a module object and `func_name` is an attribute of it. In this case, there happens to be a straightforward mapping between the module’s attributes and the global names defined in the module: they share the same namespace!\n",
    "\n",
    "A SCOPE is a textual region of a Python program where a namespace is directly accessible. (“Directly accessible” here means that an unqualified reference to a name attempts to find the name in the namespace.)\n",
    "\n",
    "Although scopes are determined statically, they are used dynamically. At any time during execution, there are at least three nested scopes whose namespaces are directly accessible:\n",
    "\n",
    "- The innermost scope, which is searched first, contains the local names.\n",
    "- The scopes of any enclosing functions, which are searched starting with the nearest enclosing scope, contain non-local, but also non-global names.\n",
    "- The next-to-last scope contains the current module’s global names.\n",
    "- The outermost scope (searched last) is the namespace containing built-in names.\n",
    "\n",
    "BE CAREFUL!!!\n",
    "\n",
    "Changing global or nonlocal variables from within an inner function might be a BAD practice and might lead to harder debugging and to more fragile code! Do this only if you know what you're doing."
   ]
  },
  {
   "cell_type": "code",
   "execution_count": 27,
   "id": "f0fb49c8",
   "metadata": {},
   "outputs": [],
   "source": [
    "# pylint: disable=invalid-name\n",
    "test_variable = 'initial global value'"
   ]
  },
  {
   "cell_type": "markdown",
   "id": "1296ba8a",
   "metadata": {},
   "source": [
    "This is a scopes and namespaces example demonstrating how to reference the different scopes and namespaces, and how global and nonlocal affect variable binding:"
   ]
  },
  {
   "cell_type": "code",
   "execution_count": 28,
   "id": "bcba2633",
   "metadata": {},
   "outputs": [],
   "source": [
    "# pylint: disable=invalid-name\n",
    "test_variable = 'initial global value'\n",
    "\n",
    "\n",
    "def test_function_scopes():\n",
    "    # pylint: disable=redefined-outer-name\n",
    "    test_variable = 'initial value inside test function'\n",
    "\n",
    "    def do_local():\n",
    "        # Create variable that is only accessible inside current do_local() function.\n",
    "        # pylint: disable=redefined-outer-name\n",
    "        test_variable = 'local value'\n",
    "        return test_variable\n",
    "\n",
    "    def do_nonlocal():\n",
    "        # Address the variable from outer scope and try to change it.\n",
    "        # pylint: disable=redefined-outer-name\n",
    "        nonlocal test_variable\n",
    "        test_variable = 'nonlocal value'\n",
    "        return test_variable\n",
    "\n",
    "    def do_global():\n",
    "        # Address the variable from very global scope and try to change it.\n",
    "        # pylint: disable=redefined-outer-name,global-statement\n",
    "        global test_variable\n",
    "        test_variable = 'global value'\n",
    "        return test_variable\n",
    "\n",
    "    # On this level currently we have access to local for test_function_scopes() function variable.\n",
    "    assert test_variable == 'initial value inside test function'\n",
    "\n",
    "    # Do local assignment.\n",
    "    # It doesn't change global variable and variable from test_function_scopes() scope.\n",
    "    do_local()\n",
    "    assert test_variable == 'initial value inside test function'\n",
    "\n",
    "    # Do non local assignment.\n",
    "    # It doesn't change global variable but it does change variable\n",
    "    # from test_function_scopes() function scope.\n",
    "    do_nonlocal()\n",
    "    assert test_variable == 'nonlocal value'\n",
    "\n",
    "    # Do global assignment.\n",
    "    # This one changes global variable but doesn't change variable from\n",
    "    # test_function_scopes() function scope.\n",
    "    do_global()\n",
    "    assert test_variable == 'nonlocal value'\n",
    "\n",
    "\n",
    "def test_global_variable_access():\n",
    "    \"\"\"Testing global variable access from within a function\"\"\"\n",
    "\n",
    "    # Global value of test_variable has been already changed by do_global() function in previous\n",
    "    # test so let's check that.\n",
    "    # pylint: disable=global-statement\n",
    "    global test_variable\n",
    "    assert test_variable == 'global value'\n",
    "\n",
    "test_function_scopes()\n",
    "test_global_variable_access()"
   ]
  },
  {
   "cell_type": "markdown",
   "id": "dff31ed5",
   "metadata": {},
   "source": [
    "On this example you may see how accessing and changing global variables from within inner functions might make debugging more difficult and code to be less predictable. Since you might have expected that `test_variable` should still be equal to 'initial global value' but it was changed by \"someone\" you need to know about the CONTEXT of who had changed that. So once again access global and non-local scope only if you know what you're doing otherwise it might be considered a bad practice.\n",
    "\n",
    "### Default argument values\n",
    "\n",
    "The most useful form is to specify a default value for one or more arguments. This creates a function that can be called with fewer arguments than it is defined to allow.\n",
    "\n",
    "```{seealso}\n",
    "- https://docs.python.org/3/tutorial/controlflow.html#default-argument-values\n",
    "```"
   ]
  },
  {
   "cell_type": "code",
   "execution_count": 29,
   "id": "23b78930",
   "metadata": {},
   "outputs": [],
   "source": [
    "def power_of(number, power=2):\n",
    "    \"\"\" Raises number to specific power.\n",
    "    You may notice that by default the function raises number to the power of two.\n",
    "    \"\"\"\n",
    "    return number ** power"
   ]
  },
  {
   "cell_type": "markdown",
   "id": "907670cb",
   "metadata": {},
   "source": [
    "This function `power_of` can be called in several ways because it has default value for the second argument. First, we may call it omitting the second argument at all."
   ]
  },
  {
   "cell_type": "code",
   "execution_count": 30,
   "id": "91f88dfc",
   "metadata": {},
   "outputs": [],
   "source": [
    "assert power_of(3) == 9"
   ]
  },
  {
   "cell_type": "markdown",
   "id": "49696175",
   "metadata": {},
   "source": [
    "We may also want to override the second argument by using the following function calls."
   ]
  },
  {
   "cell_type": "code",
   "execution_count": 31,
   "id": "225f1264",
   "metadata": {},
   "outputs": [],
   "source": [
    "assert power_of(3, 2) == 9\n",
    "assert power_of(3, 3) == 27"
   ]
  },
  {
   "cell_type": "markdown",
   "id": "4254dd38",
   "metadata": {},
   "source": [
    "### Keyword arguments\n",
    "\n",
    "Functions can be called using keyword arguments of the form `kwarg=value`.\n",
    "\n",
    "```{seealso}\n",
    "- https://docs.python.org/3/tutorial/controlflow.html#keyword-arguments\n",
    "```\n",
    "\n",
    "This is an example of multi-argument function. This function accepts one required argument (`voltage`) and three optional arguments(`state`, `action`, and `type`)："
   ]
  },
  {
   "cell_type": "code",
   "execution_count": 32,
   "id": "c481113f",
   "metadata": {},
   "outputs": [],
   "source": [
    "def parrot(voltage, state='a stiff', action='voom', parrot_type='Norwegian Blue'):\n",
    "    message = 'This parrot wouldn\\'t ' + action + ' '\n",
    "    message += 'if you put ' + str(voltage) + ' volts through it. '\n",
    "    message += 'Lovely plumage, the ' + parrot_type + '. '\n",
    "    message += 'It\\'s ' + state + '!'\n",
    "\n",
    "    return message\n",
    "\n",
    "message = (\n",
    "    \"This parrot wouldn't voom if you put 1000 volts through it. \"\n",
    "    \"Lovely plumage, the Norwegian Blue. \"\n",
    "    \"It's a stiff!\"\n",
    ")\n",
    "\n",
    "# 1 positional argument.\n",
    "assert parrot(1000) == message\n",
    "\n",
    "# 1 keyword argument.\n",
    "assert parrot(voltage=1000) == message\n",
    "\n",
    "message = (\n",
    "    \"This parrot wouldn't VOOOOOM if you put 1000000 volts through it. \"\n",
    "    \"Lovely plumage, the Norwegian Blue. \"\n",
    "    \"It's a stiff!\"\n",
    ")\n",
    "\n",
    "# 2 keyword arguments.\n",
    "assert parrot(voltage=1000000, action='VOOOOOM') == message\n",
    "assert parrot(action='VOOOOOM', voltage=1000000) == message\n",
    "\n",
    "message = (\n",
    "    \"This parrot wouldn't jump if you put 1000000 volts through it. \"\n",
    "    \"Lovely plumage, the Norwegian Blue. \"\n",
    "    \"It's bereft of life!\"\n",
    ")\n",
    "\n",
    "# 3 positional arguments.\n",
    "assert parrot(1000000, 'bereft of life', 'jump') == message\n",
    "\n",
    "message = (\n",
    "    \"This parrot wouldn't voom if you put 1000 volts through it. \"\n",
    "    \"Lovely plumage, the Norwegian Blue. \"\n",
    "    \"It's pushing up the daisies!\"\n",
    ")\n",
    "\n",
    "# 1 positional, 1 keyword.\n",
    "assert parrot(1000, state='pushing up the daisies') == message"
   ]
  },
  {
   "cell_type": "markdown",
   "id": "5e55f6ca",
   "metadata": {},
   "source": [
    "But all the following calls would be invalid:\n",
    "\n",
    "```py\n",
    "import pytest\n",
    "\n",
    "# Required argument missing.\n",
    "with pytest.raises(Exception):\n",
    "    # pylint: disable=no-value-for-parameter\n",
    "    parrot()\n",
    "\n",
    "# No argument may receive a value more than once.\n",
    "with pytest.raises(Exception):\n",
    "    # pylint: disable=redundant-keyword-arg\n",
    "    parrot(110, voltage=220)\n",
    "\n",
    "# Non-keyword argument after a keyword argument.\n",
    "# Below code will result in SyntaxError as this.\n",
    "#   File \"/tmp/ipykernel_44/168525738.py\", line 9\n",
    "#    parrot(voltage=5.0, 'dead')\n",
    "#   SyntaxError: positional argument follows keyword argument\n",
    "parrot(voltage=5.0, 'dead')\n",
    "\n",
    "# Unknown keyword argument.\n",
    "with pytest.raises(Exception):\n",
    "    # pylint: disable=unexpected-keyword-arg,no-value-for-parameter\n",
    "    parrot(actor='John Cleese')\n",
    "```\n",
    "\n",
    "In a function call, keyword arguments must follow positional arguments. All the keyword arguments passed must match one of the arguments accepted by the function (e.g. `actor` is not a valid argument for the `parrot` function), and their order is not important. This also includes non-optional arguments (e.g. `parrot(voltage=1000)` is valid too).  \n",
    "\n",
    "### Arbitrary argument lists\n",
    "\n",
    "Function can be called with an arbitrary number of arguments. These arguments will be wrapped up in a tuple. Before the variable number of arguments, zero or more normal arguments may occur.\n",
    "\n",
    "```{seealso}\n",
    "- https://docs.python.org/3/tutorial/controlflow.html#arbitrary-argument-lists\n",
    "```\n",
    "\n",
    "When a final formal parameter of the form `**name` is present, it receives a dictionary containing all keyword arguments except for those corresponding to a formal parameter. This may be combined with a formal parameter of the form `*name` which receives a tuple containing the positional arguments beyond the formal parameter list. (`*name` must occur before `**name`.)\n",
    "\n",
    "For example, if we define a function like this. This function accepts its arguments through `arguments` tuple:"
   ]
  },
  {
   "cell_type": "code",
   "execution_count": 33,
   "id": "3c2a1fca",
   "metadata": {},
   "outputs": [],
   "source": [
    "def test_function(first_param, *arguments):\n",
    "    assert first_param == 'first param'\n",
    "    assert arguments == ('second param', 'third param')\n",
    "\n",
    "test_function('first param', 'second param', 'third param')"
   ]
  },
  {
   "cell_type": "markdown",
   "id": "711c02da",
   "metadata": {},
   "source": [
    "Normally, these variadic arguments will be last in the list of formal parameters, because they scoop up all remaining input arguments that are passed to the function. Any formal parameters which occur after the `*args` parameter are **keyword-only arguments**, meaning that they can only be used as keywords rather than positional arguments."
   ]
  },
  {
   "cell_type": "code",
   "execution_count": 34,
   "id": "0d0b4631",
   "metadata": {},
   "outputs": [],
   "source": [
    "def concat(*args, sep='/'):\n",
    "    return sep.join(args)\n",
    "\n",
    "assert concat('earth', 'mars', 'venus') == 'earth/mars/venus'\n",
    "assert concat('earth', 'mars', 'venus', sep='.') == 'earth.mars.venus'"
   ]
  },
  {
   "cell_type": "markdown",
   "id": "814f794b",
   "metadata": {},
   "source": [
    "### Unpacking argument lists (* and ** statements)\n",
    "\n",
    "Unpacking arguments may be executed via `*` and `**` operators. See below for further details.\n",
    "\n",
    "```{seealso}\n",
    "- https://docs.python.org/3/tutorial/controlflow.html#unpacking-argument-lists\n",
    "```\n",
    "\n",
    "The situation may occur when the arguments are already in a list or tuple but need to be unpacked for a function call requiring separate positional arguments. For instance, the built-in `range()` function expects separate start and stop arguments. If they are not available separately, write the function call with the `*` operator to unpack the arguments out of a list or tuple:"
   ]
  },
  {
   "cell_type": "code",
   "execution_count": 35,
   "id": "0c7c3adf",
   "metadata": {},
   "outputs": [],
   "source": [
    "# Normal call with separate arguments.\n",
    "assert list(range(3, 6)) == [3, 4, 5]\n",
    "\n",
    "# Call with arguments unpacked from a list.\n",
    "arguments_list = [3, 6]\n",
    "assert list(range(*arguments_list)) == [3, 4, 5]\n",
    "\n",
    "# In the same fashion, dictionaries can deliver keyword arguments with the ** operator.\n",
    "def function_that_receives_names_arguments(first_word, second_word):\n",
    "    return first_word + ', ' + second_word + '!'\n",
    "\n",
    "arguments_dictionary = {'first_word': 'Hello', 'second_word': 'World'}\n",
    "assert function_that_receives_names_arguments(**arguments_dictionary) == 'Hello, World!'"
   ]
  },
  {
   "cell_type": "markdown",
   "id": "15a5d0e6",
   "metadata": {},
   "source": [
    "### Lambda expressions (lambda statement)\n",
    "\n",
    "Small anonymous functions can be created with the `lambda` keyword. Lambda functions can be used wherever function objects are required. They are syntactically restricted to a single expression. Semantically, they are just syntactic sugar for a normal function definition. Like nested function definitions, lambda functions can reference variables from the containing scope.\n",
    "\n",
    "```{seealso}\n",
    "- https://docs.python.org/3/tutorial/controlflow.html#lambda-expressions\n",
    "```\n",
    "\n",
    "Here is an example of Lambda Expressions. This function returns the sum of its two arguments: lambda a, b: a+b. Like nested function definitions, lambda functions can reference variables from the containing scope."
   ]
  },
  {
   "cell_type": "code",
   "execution_count": 36,
   "id": "a61fbc55",
   "metadata": {},
   "outputs": [],
   "source": [
    "def make_increment_function(delta):\n",
    "    return lambda number: number + delta\n",
    "\n",
    "increment_function = make_increment_function(42)\n",
    "\n",
    "assert increment_function(0) == 42\n",
    "assert increment_function(1) == 43\n",
    "assert increment_function(2) == 44"
   ]
  },
  {
   "cell_type": "markdown",
   "id": "f5bfe269",
   "metadata": {},
   "source": [
    "Another use of lambda is to pass a small function as an argument."
   ]
  },
  {
   "cell_type": "code",
   "execution_count": 37,
   "id": "896cb3e5",
   "metadata": {},
   "outputs": [],
   "source": [
    "pairs = [(1, 'one'), (2, 'two'), (3, 'three'), (4, 'four')]\n",
    "# Sort pairs by text key.\n",
    "pairs.sort(key=lambda pair: pair[1])\n",
    "\n",
    "assert pairs == [(4, 'four'), (1, 'one'), (3, 'three'), (2, 'two')]"
   ]
  },
  {
   "cell_type": "markdown",
   "id": "b72a294f",
   "metadata": {},
   "source": [
    "### Documentation strings\n",
    "\n",
    "Here are some conventions about the content and formatting of documentation strings.\n",
    "\n",
    "The first line should always be a short, concise summary of the object’s purpose. For brevity, it should not explicitly state the object’s name or type, since these are available by other means (except if the name happens to be a verb describing a function’s operation). This line should begin with a capital letter and end with a period.\n",
    "\n",
    "If there are more lines in the documentation string, the second line should be blank, visually separating the summary from the rest of the description. The following lines should be one or more paragraphs describing the object’s calling conventions, its side effects, etc.\n",
    "\n",
    "```{seealso}\n",
    "https://docs.python.org/3/tutorial/controlflow.html#documentation-strings\n",
    "```"
   ]
  },
  {
   "cell_type": "code",
   "execution_count": 38,
   "id": "a831b415",
   "metadata": {},
   "outputs": [],
   "source": [
    "def do_nothing():\n",
    "    \"\"\"Do nothing, but document it.\n",
    "\n",
    "    No, really, it doesn't do anything.\n",
    "    \"\"\"\n",
    "    pass"
   ]
  },
  {
   "cell_type": "markdown",
   "id": "0333c829",
   "metadata": {},
   "source": [
    "The Python parser does not strip indentation from multi-line string literals in Python, so tools that process documentation have to strip indentation if desired. This is done using the following convention. The first non-blank line after the first line of the string determines the amount of indentation for the entire documentation string. (We can’t use the first line since it is generally adjacent to the string’s opening quotes so its indentation is not apparent in the string literal.) Whitespace “equivalent” to this indentation is then stripped from the start of all lines of the string. Lines that are indented less should not occur, but if they occur all their leading whitespace should be stripped. Equivalence of whitespace should be tested after expansion of tabs (to 8 spaces, normally).\n",
    "\n",
    "```py\n",
    "assert do_nothing.__doc__ == \"\"\"Do nothing, but document it.\n",
    "\n",
    "No, really, it doesn't do anything.\n",
    "\"\"\"\n",
    "```\n",
    "\n",
    "### Function annotations\n",
    "\n",
    "Function annotations are completely optional metadata information about the types used by user-defined functions.\n",
    "\n",
    "Annotations are stored in the `__annotations__` attribute of the function as a dictionary and have no effect on any other part of the function. Parameter annotations are defined by a colon after the parameter name, followed by an expression evaluating the value of the annotation. Return annotations are defined by a literal `->`, followed by an expression, between the parameter list and the colon denoting the end of the `def` statement.\n",
    "\n",
    "```{seealso}\n",
    "- https://docs.python.org/3/tutorial/controlflow.html#function-annotations\n",
    "```\n",
    "\n",
    "Here is an example of Function Annotations. This function has a positional argument, a keyword argument, and the return value annotated."
   ]
  },
  {
   "cell_type": "code",
   "execution_count": 39,
   "id": "b7e34664",
   "metadata": {},
   "outputs": [],
   "source": [
    "def breakfast(ham: str, eggs: str = 'eggs') -> str:\n",
    "    return ham + ' and ' + eggs\n",
    "\n",
    "assert breakfast.__annotations__ == {'eggs': str, 'ham': str, 'return': str}"
   ]
  },
  {
   "cell_type": "markdown",
   "id": "57f63ced",
   "metadata": {},
   "source": [
    "### Function decorators\n",
    "\n",
    "Function decorators are simply wrappers to existing functions. In the context of design patterns, decorators dynamically alter the functionality of a function, method or class without having to directly use subclasses. This is ideal when you need to extend the functionality of functions that you don't want to modify. We can implement the decorator pattern anywhere, but Python facilitates the implementation by providing much more expressive features and syntax for that.\n",
    "\n",
    "```{seealso}\n",
    "- https://www.thecodeship.com/patterns/guide-to-python-function-decorators/\n",
    "```\n",
    "\n",
    "Function decorators are simply wrappers to existing functions. Putting the ideas mentioned above together, we can build a decorator. In this example let's consider a function that wraps the string output of another function by `p` tags.\n",
    "\n",
    "This is the function that we want to decorate."
   ]
  },
  {
   "cell_type": "code",
   "execution_count": 40,
   "id": "333c363c",
   "metadata": {},
   "outputs": [],
   "source": [
    "def greeting(name):\n",
    "    return \"Hello, {0}!\".format(name)"
   ]
  },
  {
   "cell_type": "markdown",
   "id": "b42840ae",
   "metadata": {},
   "source": [
    "This function decorates another functions output with `<p>` tag."
   ]
  },
  {
   "cell_type": "code",
   "execution_count": 41,
   "id": "fe2d85c8",
   "metadata": {},
   "outputs": [],
   "source": [
    "def decorate_with_p(func):\n",
    "    def function_wrapper(name):\n",
    "        return \"<p>{0}</p>\".format(func(name))\n",
    "    return function_wrapper"
   ]
  },
  {
   "cell_type": "markdown",
   "id": "17e4cdbf",
   "metadata": {},
   "source": [
    "Now, let's call our decorator and pass the function we want to decorate to it."
   ]
  },
  {
   "cell_type": "code",
   "execution_count": 42,
   "id": "8f2f64a4",
   "metadata": {},
   "outputs": [],
   "source": [
    "my_get_text = decorate_with_p(greeting)"
   ]
  },
  {
   "cell_type": "markdown",
   "id": "eab92c1e",
   "metadata": {},
   "source": [
    "Here we go, we've just decorated the function output without changing the function itself."
   ]
  },
  {
   "cell_type": "code",
   "execution_count": 43,
   "id": "27821ee1",
   "metadata": {},
   "outputs": [],
   "source": [
    "assert my_get_text('John') == '<p>Hello, John!</p>'  # With decorator.\n",
    "assert greeting('John') == 'Hello, John!'  # Without decorator."
   ]
  },
  {
   "cell_type": "markdown",
   "id": "e2625a7f",
   "metadata": {},
   "source": [
    "Now, Python makes creating and using decorators a bit cleaner and nicer for the programmer through some syntactic sugar. There is a neat shortcut for that, which is to mention the name of the decorating function before the function to be decorated. The name of the decorator should be prepended with an `@` symbol."
   ]
  },
  {
   "cell_type": "code",
   "execution_count": 44,
   "id": "2fe783cf",
   "metadata": {},
   "outputs": [],
   "source": [
    "@decorate_with_p\n",
    "def greeting_with_p(name):\n",
    "    return \"Hello, {0}!\".format(name)\n",
    "\n",
    "assert greeting_with_p('John') == '<p>Hello, John!</p>'"
   ]
  },
  {
   "cell_type": "markdown",
   "id": "ee0ca912",
   "metadata": {},
   "source": [
    "Now let's consider we wanted to decorate our greeting function with one more function to wrap a `div` in the string output."
   ]
  },
  {
   "cell_type": "code",
   "execution_count": 45,
   "id": "4ec94014",
   "metadata": {},
   "outputs": [],
   "source": [
    "# This will be our second decorator.\n",
    "def decorate_with_div(func):\n",
    "    def function_wrapper(text):\n",
    "        return \"<div>{0}</div>\".format(func(text))\n",
    "    return function_wrapper"
   ]
  },
  {
   "cell_type": "markdown",
   "id": "5d6a3189",
   "metadata": {},
   "source": [
    "With the basic approach, decorating get_text would be along the lines of `greeting_with_div_p = decorate_with_div(decorate_with_p(greeting_with_p))`\n",
    "\n",
    "With Python's decorator syntax, the same thing can be achieved with much more expressive power."
   ]
  },
  {
   "cell_type": "code",
   "execution_count": 46,
   "id": "50138c69",
   "metadata": {},
   "outputs": [],
   "source": [
    "@decorate_with_div\n",
    "@decorate_with_p\n",
    "def greeting_with_div_p(name):\n",
    "    return \"Hello, {0}!\".format(name)\n",
    "\n",
    "assert greeting_with_div_p('John') == '<div><p>Hello, John!</p></div>'"
   ]
  },
  {
   "cell_type": "markdown",
   "id": "822e144c",
   "metadata": {},
   "source": [
    "One important thing to notice here is that the order of setting our decorators matters. If the order was different in the example above, the output would have been different.\n",
    "\n",
    "**Passing arguments to decorators.**\n",
    "\n",
    "Looking back at the example before, you can notice how redundant the decorators in the example are. 2 decorators(`decorate_with_div`, `decorate_with_p`) each with the same functionality but wrapping the string with different tags. We can do much better than that. Why not have a more general implementation for one that takes the tag to wrap with as a string? Yes, please!"
   ]
  },
  {
   "cell_type": "code",
   "execution_count": 47,
   "id": "dc10e408",
   "metadata": {},
   "outputs": [],
   "source": [
    "def tags(tag_name):\n",
    "    def tags_decorator(func):\n",
    "        def func_wrapper(name):\n",
    "            return \"<{0}>{1}</{0}>\".format(tag_name, func(name))\n",
    "        return func_wrapper\n",
    "    return tags_decorator\n",
    "\n",
    "@tags('div')\n",
    "@tags('p')\n",
    "def greeting_with_tags(name):\n",
    "    return \"Hello, {0}!\".format(name)\n",
    "\n",
    "assert greeting_with_tags('John') == '<div><p>Hello, John!</p></div>'"
   ]
  },
  {
   "cell_type": "markdown",
   "id": "fe9b98ef",
   "metadata": {},
   "source": [
    "## Classes\n",
    "\n",
    "### Class definition (class statement)\n",
    "\n",
    "Python is an object-oriented programming language. Almost everything in Python is an object, with its properties and methods. A Class is like an object constructor or a \"blueprint\" for creating objects.\n",
    "\n",
    "```{seealso}\n",
    "- https://docs.python.org/3/tutorial/classes.html\n",
    "```\n",
    "\n",
    "Class definitions, like function definitions (`def` statement) must be executed before they have any effect. (You could conceivably place a class definition in a branch of an if statement, or inside a function.)"
   ]
  },
  {
   "cell_type": "code",
   "execution_count": 48,
   "id": "cc642882",
   "metadata": {},
   "outputs": [],
   "source": [
    "class GreetingClass:\n",
    "    \"\"\"Example of the class definition\n",
    "\n",
    "    This class contains two public methods and doesn't contain constructor.\n",
    "    \"\"\"\n",
    "    name = 'user'\n",
    "\n",
    "    def say_hello(self):\n",
    "        \"\"\"Class method.\"\"\"\n",
    "        # The self parameter is a reference to the class itself, and is used to access variables\n",
    "        # that belongs to the class. It does not have to be named self , you can call it\n",
    "        # whatever you like, but it has to be the first parameter of any function in the class.\n",
    "        return 'Hello ' + self.name\n",
    "\n",
    "    def say_goodbye(self):\n",
    "        \"\"\"Class method.\"\"\"\n",
    "        return 'Goodbye ' + self.name"
   ]
  },
  {
   "cell_type": "markdown",
   "id": "d09ca438",
   "metadata": {},
   "source": [
    "When a class definition is entered, a new namespace is created, and used as the local scope — thus, all assignments to local variables go into this new namespace. In particular, function definitions bind the name of the new function here.\n",
    "\n",
    "Class instantiation uses function notation. Just pretend that the class object is a parameterless function that returns a new instance of the class. For example, the following code will create a new instance of the class and assigns this object to the local variable."
   ]
  },
  {
   "cell_type": "code",
   "execution_count": 49,
   "id": "72da8798",
   "metadata": {},
   "outputs": [],
   "source": [
    "greeter = GreetingClass()\n",
    "\n",
    "assert greeter.say_hello() == 'Hello user'\n",
    "assert greeter.say_goodbye() == 'Goodbye user'"
   ]
  },
  {
   "cell_type": "markdown",
   "id": "f4cbc406",
   "metadata": {},
   "source": [
    "### Class objects\n",
    "\n",
    "After defining the class attributes to a class, the class object can be created by assigning the object to a variable. The created object would have instance attributes associated with it.\n",
    "\n",
    "Class objects support two kinds of operations:\n",
    "\n",
    "- attribute references\n",
    "- instantiation\n",
    "\n",
    "```{seealso}\n",
    "- https://docs.python.org/3/tutorial/classes.html#class-objects\n",
    "```\n",
    "\n",
    "ATTRIBUTE REFERENCES use the standard syntax used for all attribute references in Python: `obj.name`. Valid attribute names are all the names that were in the class’s namespace when the class object was created. For class ComplexNumber the following references are valid attribute references:\n",
    "\n",
    "Example of the complex numbers class."
   ]
  },
  {
   "cell_type": "code",
   "execution_count": 50,
   "id": "eea5d6d1",
   "metadata": {},
   "outputs": [],
   "source": [
    "class ComplexNumber:\n",
    "    real = 0\n",
    "    imaginary = 0\n",
    "\n",
    "    def get_real(self):\n",
    "        \"\"\"Return real part of complex number.\"\"\"\n",
    "        return self.real\n",
    "\n",
    "    def get_imaginary(self):\n",
    "        \"\"\"Return imaginary part of complex number.\"\"\"\n",
    "        return self.imaginary\n",
    "\n",
    "assert ComplexNumber.real == 0"
   ]
  },
  {
   "cell_type": "markdown",
   "id": "29741863",
   "metadata": {},
   "source": [
    " `__doc__` is also a valid attribute, returning the docstring belonging to the class:\n",
    "\n",
    "```py\n",
    "assert ComplexNumber.__doc__ == 'Example of the complex numbers class'\n",
    "```\n",
    "\n",
    "Class attributes can also be assigned, so you can change the value of `ComplexNumber.counter` by assignment."
   ]
  },
  {
   "cell_type": "code",
   "execution_count": 51,
   "id": "2eae3de3",
   "metadata": {},
   "outputs": [],
   "source": [
    "ComplexNumber.real = 10\n",
    "assert ComplexNumber.real == 10"
   ]
  },
  {
   "cell_type": "markdown",
   "id": "e5ec3369",
   "metadata": {},
   "source": [
    "CLASS INSTANTIATION uses function notation. Just pretend that the class object is a parameterless function that returns a new instance of the class. For example (assuming the above class):"
   ]
  },
  {
   "cell_type": "code",
   "execution_count": 52,
   "id": "e35fe0ac",
   "metadata": {},
   "outputs": [],
   "source": [
    "complex_number = ComplexNumber()\n",
    "\n",
    "assert complex_number.real == 10\n",
    "assert complex_number.get_real() == 10"
   ]
  },
  {
   "cell_type": "markdown",
   "id": "7cb7f5a9",
   "metadata": {},
   "source": [
    "The instantiation operation (“calling” a class object) creates an empty object. Many classes like to create objects with instances customized to a specific initial state. Therefore a class may define a special method named `__init__()`, like this:"
   ]
  },
  {
   "cell_type": "code",
   "execution_count": 53,
   "id": "286705aa",
   "metadata": {},
   "outputs": [],
   "source": [
    "class ComplexNumberWithConstructor:\n",
    "    \"\"\"Example of the class with constructor\"\"\"\n",
    "\n",
    "    def __init__(self, real_part, imaginary_part):\n",
    "        self.real = real_part\n",
    "        self.imaginary = imaginary_part\n",
    "\n",
    "    def get_real(self):\n",
    "        \"\"\"Return real part of complex number.\"\"\"\n",
    "        return self.real\n",
    "\n",
    "    def get_imaginary(self):\n",
    "        \"\"\"Return imaginary part of complex number.\"\"\"\n",
    "        return self.imaginary\n",
    "\n",
    "complex_number = ComplexNumberWithConstructor(3.0, -4.5)\n",
    "assert complex_number.real, complex_number.imaginary == (3.0, -4.5)"
   ]
  },
  {
   "cell_type": "markdown",
   "id": "c4f6e593",
   "metadata": {},
   "source": [
    "### Instance objects\n",
    "\n",
    "Now, what can we do with instance objects? The only operations understood by instance objects are attribute references. There are two kinds of valid attribute names:\n",
    "\n",
    "- data attributes\n",
    "- methods\n",
    "\n",
    "```{seealso}\n",
    "- https://docs.python.org/3/tutorial/classes.html#instance-objects\n",
    "```\n",
    "\n",
    "DATA ATTRIBUTES need not be declared; like local variables, they spring into existence when they are first assigned to them. For example:"
   ]
  },
  {
   "cell_type": "code",
   "execution_count": 54,
   "id": "a6cefd31",
   "metadata": {},
   "outputs": [],
   "source": [
    "# pylint: disable=too-few-public-methods\n",
    "class DummyClass:\n",
    "    \"\"\"Dummy class\"\"\"\n",
    "    pass\n",
    "\n",
    "dummy_instance = DummyClass()\n",
    "\n",
    "# pylint: disable=attribute-defined-outside-init\n",
    "dummy_instance.temporary_attribute = 1\n",
    "assert dummy_instance.temporary_attribute == 1\n",
    "del dummy_instance.temporary_attribute"
   ]
  },
  {
   "cell_type": "markdown",
   "id": "66af84fa",
   "metadata": {},
   "source": [
    "### Methods objects\n",
    "\n",
    "Classes can have two types of attribute references: data or methods. Class methods are called by `variable_name.method_name(parameters)` as opposed to class data which lacks the `()`.\n",
    "\n",
    "```{seealso}\n",
    "- https://docs.python.org/3/tutorial/classes.html#method-objects\n",
    "```\n",
    "\n",
    "A simple example of the `Mycounter` class."
   ]
  },
  {
   "cell_type": "code",
   "execution_count": 55,
   "id": "eec8e002",
   "metadata": {},
   "outputs": [],
   "source": [
    "class MyCounter:\n",
    "    counter = 10\n",
    "\n",
    "    def get_counter(self):\n",
    "        \"\"\"Return the counter\"\"\"\n",
    "        return self.counter\n",
    "\n",
    "    def increment_counter(self):\n",
    "        \"\"\"Increment the counter\"\"\"\n",
    "        self.counter += 1\n",
    "        return self.counter"
   ]
  },
  {
   "cell_type": "markdown",
   "id": "163ed985",
   "metadata": {},
   "source": [
    "A method is a function that “belongs to” an object. (In Python, the term method is not unique to class instances: other object types can have methods as well. For example, list objects have methods called `append`, `insert`, `remove`, `sort`, and so on. However, in the following discussion, we’ll use the term method exclusively to mean methods of class instance objects, unless explicitly stated otherwise.)\n",
    "\n",
    "Usually, a method is called right after it is bound."
   ]
  },
  {
   "cell_type": "code",
   "execution_count": 56,
   "id": "c86aedcd",
   "metadata": {},
   "outputs": [],
   "source": [
    "counter = MyCounter()\n",
    "assert counter.get_counter() == 10"
   ]
  },
  {
   "cell_type": "markdown",
   "id": "2e8ace5b",
   "metadata": {},
   "source": [
    "However, it is not necessary to call a method right away: `counter.get_counter()` is a method object, and can be stored away and called at a later time. For example:"
   ]
  },
  {
   "cell_type": "code",
   "execution_count": 57,
   "id": "7816b942",
   "metadata": {},
   "outputs": [],
   "source": [
    "get_counter = counter.get_counter\n",
    "assert get_counter() == 10"
   ]
  },
  {
   "cell_type": "markdown",
   "id": "fe2c7736",
   "metadata": {},
   "source": [
    "But be aware that `counter.get_counter()` is not the same thing as `MyCounter.get_counter()` — it is a method object, not a function object.\n",
    "\n",
    "What exactly happens when a method is called? You may have noticed that `counter.get_counter()` was called without an argument above, even though the function definition for `get_counter()` specified an argument (`self`). What happened to the argument? Surely Python raises an exception when a function that requires an argument is called without any — even if the argument isn’t actually used...\n",
    "\n",
    "Actually, you may have guessed the answer: the special thing about methods is that the instance object is passed as the first argument of the function. In our example, the call `counter.get_counter()` is exactly equivalent to `MyCounter.get_counter(counter)`. In general, calling a method with a list of n arguments is equivalent to calling the corresponding function with an argument list that is created by inserting the method’s instance object before the first argument."
   ]
  },
  {
   "cell_type": "code",
   "execution_count": 58,
   "id": "2308f85f",
   "metadata": {},
   "outputs": [],
   "source": [
    "assert counter.get_counter() == 10\n",
    "assert MyCounter.get_counter(counter) == 10"
   ]
  },
  {
   "cell_type": "markdown",
   "id": "8fd4c225",
   "metadata": {},
   "source": [
    "### Class and instance variables\n",
    "\n",
    "Generally speaking, instance variables are for data unique to each instance and class variables are for attributes and methods shared by all instances of the class.\n",
    "\n",
    "```{seealso}\n",
    "- https://docs.python.org/3/tutorial/classes.html#class-and-instance-variables\n",
    "```\n",
    "\n",
    "Let's look at the example of `Dog` class:"
   ]
  },
  {
   "cell_type": "code",
   "execution_count": 59,
   "id": "9827a7e2",
   "metadata": {},
   "outputs": [],
   "source": [
    "# pylint: disable=too-few-public-methods\n",
    "class Dog:\n",
    "    kind = 'canine'  # Class variable shared by all instances.\n",
    "\n",
    "    def __init__(self, name):\n",
    "        self.name = name  # Instance variable unique to each instance.\n",
    "\n",
    "fido = Dog('Fido')\n",
    "buddy = Dog('Buddy')\n",
    "\n",
    "# Shared by all dogs.\n",
    "assert fido.kind == 'canine'\n",
    "assert buddy.kind == 'canine'\n",
    "\n",
    "# Unique to fido.\n",
    "assert fido.name == 'Fido'\n",
    "\n",
    "# Unique to buddy.\n",
    "assert buddy.name == 'Buddy'"
   ]
  },
  {
   "cell_type": "markdown",
   "id": "f769398c",
   "metadata": {},
   "source": [
    "Shared data can have possibly surprising effects involving mutable objects such as lists and dictionaries. For example, the tricks list in the following code should not be used as a class variable because just a single list would be shared by all Dog instances.\n",
    "\n",
    "Here is a `Dog` class example with wrong shared variable usage:"
   ]
  },
  {
   "cell_type": "code",
   "execution_count": 60,
   "id": "32e2c8dc",
   "metadata": {},
   "outputs": [],
   "source": [
    "# pylint: disable=too-few-public-methods\n",
    "class DogWithSharedTricks:\n",
    "    # Mistaken use of a class variable (see below) for mutable objects.\n",
    "    tricks = []  \n",
    "\n",
    "    def __init__(self, name):\n",
    "        # Instance variable unique to each instance.\n",
    "        self.name = name  \n",
    "\n",
    "    def add_trick(self, trick):\n",
    "        \"\"\"Add trick to the dog\n",
    "\n",
    "        This function illustrate mistaken use of mutable class variable tricks (see below).\n",
    "        \"\"\"\n",
    "        self.tricks.append(trick)\n",
    "\n",
    "fido = DogWithSharedTricks('Fido')\n",
    "buddy = DogWithSharedTricks('Buddy')\n",
    "\n",
    "fido.add_trick('roll over')\n",
    "buddy.add_trick('play dead')\n",
    "\n",
    "# unexpectedly shared by all dogs\n",
    "assert fido.tricks == ['roll over', 'play dead']\n",
    "assert buddy.tricks == ['roll over', 'play dead']"
   ]
  },
  {
   "cell_type": "markdown",
   "id": "632bd5cf",
   "metadata": {},
   "source": [
    "The correct design of the class should use an instance variable instead:"
   ]
  },
  {
   "cell_type": "code",
   "execution_count": 61,
   "id": "e8d140db",
   "metadata": {},
   "outputs": [],
   "source": [
    "# pylint: disable=too-few-public-methods\n",
    "class DogWithTricks:\n",
    "    def __init__(self, name):\n",
    "        self.name = name  # Instance variable unique to each instance.\n",
    "        self.tricks = []  # creates a new empty list for each dog\n",
    "\n",
    "    def add_trick(self, trick):\n",
    "        \"\"\"Add trick to the dog\n",
    "\n",
    "        This function illustrate a correct use of mutable class variable tricks (see below).\n",
    "        \"\"\"\n",
    "        self.tricks.append(trick)\n",
    "\n",
    "fido = DogWithTricks('Fido')\n",
    "buddy = DogWithTricks('Buddy')\n",
    "\n",
    "fido.add_trick('roll over')\n",
    "buddy.add_trick('play dead')\n",
    "\n",
    "assert fido.tricks == ['roll over']\n",
    "assert buddy.tricks == ['play dead']"
   ]
  },
  {
   "cell_type": "markdown",
   "id": "13672db2",
   "metadata": {},
   "source": [
    "### Inheritance\n",
    "\n",
    "Inheritance is one of the principles of object-oriented programming. Since classes may share a lot of the same code, inheritance allows a derived class to reuse the same code and modify it accordingly.\n",
    "\n",
    "```{seealso}\n",
    "- https://docs.python.org/3/tutorial/classes.html#inheritance\n",
    "```\n",
    "\n",
    "Here is an example of the base class:"
   ]
  },
  {
   "cell_type": "code",
   "execution_count": 62,
   "id": "7def8aaf",
   "metadata": {},
   "outputs": [],
   "source": [
    "# pylint: disable=too-few-public-methods\n",
    "class Person:\n",
    "    def __init__(self, name):\n",
    "        self.name = name\n",
    "\n",
    "    def get_name(self):\n",
    "        \"\"\"Get person name\"\"\"\n",
    "        return self.name"
   ]
  },
  {
   "cell_type": "markdown",
   "id": "00ba1ddf",
   "metadata": {},
   "source": [
    "The base class (in our case `Person`) must be defined in a scope containing the derived class definition. In place of a base class name, other arbitrary expressions are also allowed.\n",
    "\n",
    "Derived classes may override methods of their base classes. Because methods have no special privileges when calling other methods of the same object, a method of a base class that calls another method defined in the same base class may end up calling a method of a derived class that overrides it.\n",
    "\n",
    "An overriding method in a derived class may in fact want to extend rather than simply replace the base class method of the same name. There is a simple way to call the base class method directly: just call `BaseClassName.methodname(self, arguments)`. This is occasionally useful to clients as well. (Note that this only works if the base class is accessible as `BaseClassName` in the global scope.)\n",
    "\n",
    "The syntax for a derived class definition looks like this:"
   ]
  },
  {
   "cell_type": "code",
   "execution_count": 63,
   "id": "1ff14047",
   "metadata": {},
   "outputs": [],
   "source": [
    "# pylint: disable=too-few-public-methods\n",
    "class Employee(Person):\n",
    "    def __init__(self, name, staff_id):\n",
    "        Person.__init__(self, name)\n",
    "        # You may also use super() here in order to avoid explicit using of parent class name:\n",
    "        # >>> super().__init__(name)\n",
    "        self.staff_id = staff_id\n",
    "\n",
    "    def get_full_id(self):\n",
    "        \"\"\"Get full employee id\"\"\"\n",
    "        return self.get_name() + ', ' + self.staff_id"
   ]
  },
  {
   "cell_type": "markdown",
   "id": "9335b78d",
   "metadata": {},
   "source": [
    "There’s nothing special about the instantiation of derived classes: `DerivedClassName()` creates a new instance of the class. Method references are resolved as follows: the corresponding class attribute is searched, descending the chain of base classes if necessary, and the method reference is valid if this yields a function object."
   ]
  },
  {
   "cell_type": "code",
   "execution_count": 64,
   "id": "c241740a",
   "metadata": {},
   "outputs": [],
   "source": [
    "person = Person('Bill')\n",
    "employee = Employee('John', 'A23')\n",
    "\n",
    "assert person.get_name() == 'Bill'\n",
    "assert employee.get_name() == 'John'\n",
    "assert employee.get_full_id() == 'John, A23'"
   ]
  },
  {
   "cell_type": "markdown",
   "id": "8607206a",
   "metadata": {},
   "source": [
    "Python has two built-in functions that work with inheritance:\n",
    "\n",
    "- Use `isinstance()` to check an instance’s type: `isinstance(obj, int)` will be True only if `obj.__class__` is int or some class derived from int.\n",
    "- Use `issubclass()` to check class inheritance: `issubclass(bool, int)` is True since bool is a subclass of int. However, `issubclass(float, int)` is False since float is not a subclass of int."
   ]
  },
  {
   "cell_type": "code",
   "execution_count": 65,
   "id": "7ab73b02",
   "metadata": {},
   "outputs": [],
   "source": [
    "assert isinstance(employee, Employee)\n",
    "assert not isinstance(person, Employee)\n",
    "\n",
    "assert isinstance(person, Person)\n",
    "assert isinstance(employee, Person)\n",
    "\n",
    "assert issubclass(Employee, Person)\n",
    "assert not issubclass(Person, Employee)"
   ]
  },
  {
   "cell_type": "markdown",
   "id": "2e2046c5",
   "metadata": {},
   "source": [
    "### Multiple inheritance\n",
    "\n",
    "Some classes may derive from multiple classes. This means that the derived class would have its attributes, along with the attributes of all the classes that it was derived from.\n",
    "\n",
    "```{seealso}\n",
    "- https://docs.python.org/3/tutorial/classes.html#multiple-inheritance\n",
    "```"
   ]
  },
  {
   "cell_type": "code",
   "execution_count": 66,
   "id": "cc2089b3",
   "metadata": {},
   "outputs": [],
   "source": [
    "# pylint: disable=too-few-public-methods\n",
    "class Clock:\n",
    "    \"\"\"Clock class\"\"\"\n",
    "\n",
    "    time = '11:23 PM'\n",
    "\n",
    "    def get_time(self):\n",
    "        \"\"\"Get current time\n",
    "\n",
    "        Method is hardcoded just for multiple inheritance illustration.\n",
    "        \"\"\"\n",
    "        return self.time\n",
    "\n",
    "# pylint: disable=too-few-public-methods\n",
    "class Calendar:\n",
    "    \"\"\"Calendar class\"\"\"\n",
    "\n",
    "    date = '12/08/2018'\n",
    "\n",
    "    def get_date(self):\n",
    "        \"\"\"Get current date\n",
    "\n",
    "        Method is hardcoded just for multiple inheritance illustration.\n",
    "        \"\"\"\n",
    "        return self.date"
   ]
  },
  {
   "cell_type": "markdown",
   "id": "e09208d2",
   "metadata": {},
   "source": [
    "Python supports a form of multiple inheritances as well. A class definition with multiple base classes looks like this:"
   ]
  },
  {
   "cell_type": "code",
   "execution_count": 67,
   "id": "95f339ed",
   "metadata": {},
   "outputs": [],
   "source": [
    "class CalendarClock(Clock, Calendar):\n",
    "    pass\n",
    "\n",
    "calendar_clock = CalendarClock()\n",
    "\n",
    "assert calendar_clock.get_date() == '12/08/2018'\n",
    "assert calendar_clock.get_time() == '11:23 PM'"
   ]
  },
  {
   "cell_type": "markdown",
   "id": "02fd120b",
   "metadata": {},
   "source": [
    "For most purposes, in the simplest cases, you can think of the search for attributes inherited from a parent class as depth-first, left-to-right, not searching twice in the same class where there is an overlap in the hierarchy. Thus, if an attribute is not found in `CalendarClock`, it is searched for in `Clock`, then (recursively) in the base classes of `Clock`, and if it was not found there, it was searched for in `Calendar`, and so on.\n",
    "\n",
    "In fact, it is slightly more complex than that; the method resolution order changes dynamically to support cooperative calls to `super()`. This approach is known in some other multiple-inheritance languages as call-next-method and is more powerful than the super call found in single-inheritance languages.\n",
    "\n",
    "Dynamic ordering is necessary because all cases of multiple inheritance exhibit one or more diamond relationships (where at least one of the parent classes can be accessed through multiple paths from the bottommost class). For example, all classes inherit from an object, so any case of multiple inheritances provides more than one path to reach the object. To keep the base classes from being accessed more than once, the dynamic algorithm linearizes the search order in a way that preserves the left-to-right ordering specified in each class, that calls each parent only once, and is monotonic (meaning that a class can be subclassed without affecting the precedence order of its parents).\n",
    "\n",
    "## Modules\n",
    "\n",
    "### Modules (import statement)\n",
    "\n",
    "As your program gets longer, you may want to split it into several files for easier maintenance. You may also want to use a handy function that you’ve written in several programs without copying its definition into each program.\n",
    "\n",
    "To support this, Python has a way to put definitions in a file and use them in a script or in an interactive instance of the interpreter. Such a file is called a module; definitions from a module can be imported into other modules or into the main module (the collection of variables that you have access to in a script executed at the top level and in calculator mode).\n",
    "\n",
    "A module is a file containing Python definitions and statements. The file name is the module name with the suffix .py appended. Within a module, the module’s name (as a string) is available as the value of the global variable `__name__`.\n",
    "\n",
    "When the interpreter executes the import statement, it searches for a module in a list of directories assembled from the following sources:\n",
    "\n",
    "- The directory from which the input script was run or the current directory if the interpreter is being run interactively.\n",
    "- The list of directories contained in the `PYTHONPATH` environment variable, if it is set. (The format for `PYTHONPATH` is OS-dependent but should mimic the PATH environment variable.)\n",
    "- An installation-dependent list of directories configured at the time Python is installed.\n",
    "\n",
    "The resulting search path is accessible in the Python variable `sys.path`, which is obtained from a module named sys:\n",
    "\n",
    "```python\n",
    "import sys\n",
    "sys.path\n",
    "```\n",
    "\n",
    "```{seealso}\n",
    "- https://docs.python.org/3/tutorial/modules.html\n",
    "- https://realpython.com/python-modules-packages/\n",
    "```\n",
    "\n",
    "This does not enter the names of the functions defined in `fibonacci_module` directly in the current symbol table; it only enters the module name `fibonacci_module` there."
   ]
  },
  {
   "cell_type": "code",
   "execution_count": 68,
   "id": "3474c31b",
   "metadata": {},
   "outputs": [],
   "source": [
    "import fibonacci_module"
   ]
  },
  {
   "cell_type": "markdown",
   "id": "6683461e",
   "metadata": {},
   "source": [
    "There is a variant of the import statement that imports names from a module directly into the importing module’s symbol table. For example:"
   ]
  },
  {
   "cell_type": "code",
   "execution_count": 69,
   "id": "83e77e98",
   "metadata": {},
   "outputs": [],
   "source": [
    "# pylint: disable=reimported\n",
    "from fibonacci_module import fibonacci_at_position, fibonacci_smaller_than"
   ]
  },
  {
   "cell_type": "markdown",
   "id": "40a86882",
   "metadata": {},
   "source": [
    "There is even a variant to import all names that a module defines. This imports all names except those beginning with an underscore `_`. In most cases Python programmers do not use this facility since it introduces an unknown set of names into the interpreter, possibly hiding some things you have already defined.\n",
    "\n",
    "If the module name is followed by as then the name following as is bound directly to the imported module:"
   ]
  },
  {
   "cell_type": "code",
   "execution_count": 70,
   "id": "e40fd803",
   "metadata": {},
   "outputs": [],
   "source": [
    "import fibonacci_module as fibonacci_module_renamed"
   ]
  },
  {
   "cell_type": "markdown",
   "id": "902721cf",
   "metadata": {},
   "source": [
    "It can also be used when utilizing from with similar effects:"
   ]
  },
  {
   "cell_type": "code",
   "execution_count": 71,
   "id": "de2a1cdc",
   "metadata": {},
   "outputs": [],
   "source": [
    "from fibonacci_module import fibonacci_at_position as fibonacci_at_position_renamed"
   ]
  },
  {
   "cell_type": "markdown",
   "id": "b097b72d",
   "metadata": {},
   "source": [
    "When a module named spam is imported, the interpreter first searches for a built-in module with that name. If not found, it then searches for a file named spam.py in a list of directories given by the variable `sys.path`. `sys.path` is initialized from these locations:\n",
    "\n",
    "- The directory containing the input script (or the current directory when no file is specified).\n",
    "- PYTHONPATH (a list of directory names, with the same syntax as the shell variable PATH).\n",
    "- The installation-dependent default."
   ]
  },
  {
   "cell_type": "code",
   "execution_count": 72,
   "id": "885d2487",
   "metadata": {},
   "outputs": [],
   "source": [
    "assert fibonacci_module.fibonacci_at_position(7) == 13\n",
    "assert fibonacci_at_position(7) == 13\n",
    "assert fibonacci_module_renamed.fibonacci_at_position(7) == 13\n",
    "assert fibonacci_at_position_renamed(7) == 13\n",
    "\n",
    "assert fibonacci_module.fibonacci_smaller_than(100) == [0, 1, 1, 2, 3, 5, 8, 13, 21, 34, 55, 89]\n",
    "assert fibonacci_smaller_than(100) == [0, 1, 1, 2, 3, 5, 8, 13, 21, 34, 55, 89]\n",
    "assert fibonacci_module_renamed.fibonacci_smaller_than(10) == [0, 1, 1, 2, 3, 5, 8]"
   ]
  },
  {
   "cell_type": "markdown",
   "id": "183b3196",
   "metadata": {},
   "source": [
    "If you intend to use a function often you can assign it to a local name."
   ]
  },
  {
   "cell_type": "code",
   "execution_count": 73,
   "id": "e0b6bd12",
   "metadata": {},
   "outputs": [],
   "source": [
    "fibonacci = fibonacci_module.fibonacci_smaller_than\n",
    "assert fibonacci(100) == [0, 1, 1, 2, 3, 5, 8, 13, 21, 34, 55, 89]"
   ]
  },
  {
   "cell_type": "markdown",
   "id": "613666de",
   "metadata": {},
   "source": [
    "The built-in function `dir()` is used to find out which names a module defines. It returns a sorted list of strings."
   ]
  },
  {
   "cell_type": "code",
   "execution_count": 74,
   "id": "449f5947",
   "metadata": {},
   "outputs": [],
   "source": [
    "assert dir(fibonacci_module) == [\n",
    "    '__builtins__',\n",
    "    '__cached__',\n",
    "    '__doc__',\n",
    "    '__file__',\n",
    "    '__loader__',\n",
    "    '__name__',\n",
    "    '__package__',\n",
    "    '__spec__',\n",
    "    'fibonacci_at_position',\n",
    "    'fibonacci_smaller_than',\n",
    "]"
   ]
  },
  {
   "cell_type": "markdown",
   "id": "b59d22e6",
   "metadata": {},
   "source": [
    "### Packages\n",
    "\n",
    "Packages are a way of structuring Python’s module namespace by using “dotted module names”. For example, the module name `A.B` designates a submodule named `B` in a package named `A`. Just like the use of modules saves the authors of different modules from having to worry about each other’s global variable names, the use of dotted module names saves the authors of multi-module packages like NumPy or Pillow from having to worry about each other’s module names.\n",
    "\n",
    "The `__init__.py` files are required to make Python treat the directories as containing packages; this is done to prevent directories with a common name, such as string, from unintentionally hiding valid modules that occur later on the module search path. In the simplest case, `__init__.py` can just be an empty file, but it can also execute the initialization code for the package or set the `__all__` variable, described later.\n",
    "\n",
    "Users of the package can import individual modules from the package, for example:"
   ]
  },
  {
   "cell_type": "code",
   "execution_count": 75,
   "id": "0a90f20f",
   "metadata": {},
   "outputs": [],
   "source": [
    "import sound_package.effects.echo"
   ]
  },
  {
   "cell_type": "markdown",
   "id": "a6372399",
   "metadata": {},
   "source": [
    "An alternative way of importing the submodule is:"
   ]
  },
  {
   "cell_type": "code",
   "execution_count": 76,
   "id": "e9b51545",
   "metadata": {},
   "outputs": [],
   "source": [
    "# pylint: disable=reimported\n",
    "from sound_package.effects import echo"
   ]
  },
  {
   "cell_type": "markdown",
   "id": "18cda586",
   "metadata": {},
   "source": [
    "Yet another variation is to import the desired function or variable directly:"
   ]
  },
  {
   "cell_type": "code",
   "execution_count": 77,
   "id": "d8901593",
   "metadata": {},
   "outputs": [],
   "source": [
    "from sound_package.effects.echo import echo_function"
   ]
  },
  {
   "cell_type": "markdown",
   "id": "7f71f29e",
   "metadata": {},
   "source": [
    "Note that when using from package import item, the item can be either a submodule (or subpackage) of the package or some other name defined in the package, like a function, class, or variable.\n",
    "\n",
    "The import statement first tests whether the item is defined in the package; if not, it assumes it is a module and attempts to load it. If it fails to find it, an `ImportError` exception is raised.\n",
    "\n",
    "Contrarily, when using syntax like import `item.subitem.subsubitem`, each item except for the last must be a package; the last item can be a module or a package but can’t be a class or function or variable defined in the previous item."
   ]
  },
  {
   "cell_type": "code",
   "execution_count": 78,
   "id": "23752be4",
   "metadata": {},
   "outputs": [],
   "source": [
    "assert sound_package.effects.echo.echo_function() == 'Do echo effect'\n",
    "assert echo.echo_function() == 'Do echo effect'\n",
    "assert echo_function() == 'Do echo effect'"
   ]
  },
  {
   "cell_type": "markdown",
   "id": "203ec141",
   "metadata": {},
   "source": [
    "## Errors and exceptions\n",
    "\n",
    "### Handling exceptions (try statement)\n",
    "\n",
    "Even if a statement or expression is syntactically correct, it may cause an error when an attempt\n",
    "is made to execute it. Errors detected during execution are called exceptions and are not\n",
    "unconditionally fatal.\n",
    "\n",
    "It is possible to write programs that handle selected exceptions.\n",
    "\n",
    "```{seealso}\n",
    "https://docs.python.org/3/tutorial/errors.html#errors-and-exceptions\n",
    "```\n",
    "\n",
    "The `try` statement works as follows.\n",
    "\n",
    "- First, the `try` clause (the statement(s) between the `try` and `except` keywords) is executed.\n",
    "- If no exception occurs, the `except` clause is skipped and execution of the `try` statement is finished.\n",
    "- If an exception occurs during the execution of the `try` clause, the rest of the clause is skipped. Then if its type matches the exception named after the except keyword, the `except` clause is executed, and then execution continues after the `try` statement.\n",
    "- If an exception occurs that does not match the exception named in the `except` clause, it is passed on to outer `try` statements; if no handler is found, it is an unhandled exception and execution stops with a message.\n",
    "\n",
    "Let's simulate division by zero exception."
   ]
  },
  {
   "cell_type": "code",
   "execution_count": 79,
   "id": "6fdb7cff",
   "metadata": {},
   "outputs": [],
   "source": [
    "exception_has_been_handled = False\n",
    "try:\n",
    "    result = 10 * (1 / 0)  # division by zero\n",
    "    # We should not get here at all.\n",
    "    assert result\n",
    "except ZeroDivisionError:\n",
    "    # We should get here because of division by zero.\n",
    "    exception_has_been_handled = True\n",
    "\n",
    "assert exception_has_been_handled"
   ]
  },
  {
   "cell_type": "markdown",
   "id": "3b711da1",
   "metadata": {},
   "source": [
    "Let's simulate an undefined variable access exception."
   ]
  },
  {
   "cell_type": "code",
   "execution_count": 80,
   "id": "d5a169f5",
   "metadata": {},
   "outputs": [],
   "source": [
    "exception_has_been_handled = False\n",
    "try:\n",
    "    # pylint: disable=undefined-variable\n",
    "    result = 4 + spam * 3  # name 'spam' is not defined\n",
    "    # We should not get here at all.\n",
    "    assert result\n",
    "except NameError:\n",
    "    # We should get here because of division by zero.\n",
    "    exception_has_been_handled = True\n",
    "\n",
    "assert exception_has_been_handled"
   ]
  },
  {
   "cell_type": "markdown",
   "id": "014c5a12",
   "metadata": {},
   "source": [
    "A `try` statement may have more than one `except` clause, to specify handlers for different exceptions. At most one handler will be executed. Handlers only handle exceptions that occur in the corresponding `try` clause, not in other handlers of the same `try` statement. An `except` clause may name multiple exceptions as a parenthesized tuple, for example:"
   ]
  },
  {
   "cell_type": "code",
   "execution_count": 81,
   "id": "e85f6742",
   "metadata": {},
   "outputs": [],
   "source": [
    "exception_has_been_handled = False\n",
    "try:\n",
    "    result = 10 * (1 / 0)  # division by zero\n",
    "    # We should not get here at all.\n",
    "    assert result\n",
    "except (ZeroDivisionError, NameError):\n",
    "    # We should get here because of division by zero.\n",
    "    exception_has_been_handled = True\n",
    "\n",
    "assert exception_has_been_handled"
   ]
  },
  {
   "cell_type": "markdown",
   "id": "c997627a",
   "metadata": {},
   "source": [
    "Exception handlers may be chained."
   ]
  },
  {
   "cell_type": "code",
   "execution_count": 82,
   "id": "5ad11697",
   "metadata": {},
   "outputs": [],
   "source": [
    "exception_has_been_handled = False\n",
    "try:\n",
    "    result = 10 * (1 / 0)  # division by zero\n",
    "    # We should not get here at all.\n",
    "    assert result\n",
    "except NameError:\n",
    "    # We should get here because of division by zero.\n",
    "    exception_has_been_handled = True\n",
    "except ZeroDivisionError:\n",
    "    # We should get here because of division by zero.\n",
    "    exception_has_been_handled = True\n",
    "\n",
    "assert exception_has_been_handled"
   ]
  },
  {
   "cell_type": "markdown",
   "id": "4a321320",
   "metadata": {},
   "source": [
    "The `try … except` statement has an optional `else` clause, which, when present, must follow all `except` clauses. It is useful for code that must be executed if the `try` clause does not raise an exception. For example:"
   ]
  },
  {
   "cell_type": "code",
   "execution_count": 83,
   "id": "f2572f8e",
   "metadata": {},
   "outputs": [],
   "source": [
    "exception_has_been_handled = False\n",
    "no_exceptions_has_been_fired = False\n",
    "\n",
    "try:\n",
    "    result = 10\n",
    "    # We should not get here at all.\n",
    "    assert result\n",
    "except NameError:\n",
    "    # We should get here because of division by zero.\n",
    "    exception_has_been_handled = True\n",
    "else:\n",
    "    no_exceptions_has_been_fired = True\n",
    "\n",
    "assert not exception_has_been_handled\n",
    "assert no_exceptions_has_been_fired"
   ]
  },
  {
   "cell_type": "markdown",
   "id": "6e46b38d",
   "metadata": {},
   "source": [
    "### Raising exceptions (raise statement)\n",
    "\n",
    "The `raise` statement allows the programmer to force a specified exception to occur.\n",
    "\n",
    "```{seealso}\n",
    "https://docs.python.org/3/tutorial/errors.html#raising-exceptions\n",
    "```\n",
    "\n",
    "The `raise` statement allows the programmer to force a specified exception to occur."
   ]
  },
  {
   "cell_type": "code",
   "execution_count": 84,
   "id": "27c4ab00",
   "metadata": {},
   "outputs": [],
   "source": [
    "exception_is_caught = False\n",
    "\n",
    "try:\n",
    "    # The sole argument to raise indicates the exception to be raised. This must be either an\n",
    "    # exception instance or an exception class (a class that derives from Exception). If an\n",
    "    # exception class is passed, it will be implicitly instantiated by calling its constructor\n",
    "    # with no arguments\n",
    "    raise NameError('HiThere')  # shorthand for 'raise ValueError()'\n",
    "except NameError:\n",
    "    exception_is_caught = True\n",
    "\n",
    "assert exception_is_caught"
   ]
  },
  {
   "cell_type": "markdown",
   "id": "762077f1",
   "metadata": {},
   "source": [
    "Programs may name their own exceptions by creating a new exception class. Exceptions should typically be derived from the `Exception` class, either directly or indirectly. Most exceptions are defined with names that end in `Error,` similar to the naming of the standard exceptions. Many standard modules define their own exceptions to report errors that may occur in functions they define.\n",
    "\n",
    "User-defined exceptions."
   ]
  },
  {
   "cell_type": "code",
   "execution_count": 85,
   "id": "e1b4fc5d",
   "metadata": {},
   "outputs": [],
   "source": [
    "class MyCustomError(Exception):\n",
    "    \"\"\"Example of MyCustomError exception.\"\"\"\n",
    "    def __init__(self, message):\n",
    "        super().__init__(message)\n",
    "        self.message = message\n",
    "\n",
    "custom_exception_is_caught = False\n",
    "\n",
    "try:\n",
    "    raise MyCustomError('My custom message')\n",
    "except MyCustomError:\n",
    "    custom_exception_is_caught = True\n",
    "\n",
    "assert custom_exception_is_caught"
   ]
  },
  {
   "cell_type": "markdown",
   "id": "78e90f9c",
   "metadata": {},
   "source": [
    "## Your turn! 🚀\n",
    "\n",
    "Practice the Python programming basics by following this [assignment](../assignments/prerequisites/python-programming-advanced.ipynb).\n",
    "\n",
    "## Self study\n",
    "\n",
    "Here is a list of free/open-source learning resources for advanced [Python programming](https://github.com/open-academy/open-learning-resources/blob/main/README.md#python).\n",
    "\n",
    "## Acknowledgments\n",
    "\n",
    "Thanks to [Oleksii Trekhleb](https://github.com/trekhleb) who helped create this awesome open source project [learn-python](https://github.com/trekhleb/learn-python) for Python learning. It contributes the majority of the content in this chapter."
   ]
  }
 ],
 "metadata": {
  "jupytext": {
   "cell_metadata_filter": "-all",
   "formats": "md:myst",
   "text_representation": {
    "extension": ".md",
    "format_name": "myst",
    "format_version": 0.13,
    "jupytext_version": "1.11.5"
   }
  },
  "kernelspec": {
   "display_name": "Python 3",
   "language": "python",
   "name": "python3"
  },
  "language_info": {
   "codemirror_mode": {
    "name": "ipython",
    "version": 3
   },
   "file_extension": ".py",
   "mimetype": "text/x-python",
   "name": "python",
   "nbconvert_exporter": "python",
   "pygments_lexer": "ipython3",
   "version": "3.9.16"
  },
  "source_map": [
   14,
   46,
   51,
   65,
   79,
   91,
   99,
   103,
   107,
   111,
   113,
   117,
   124,
   128,
   137,
   141,
   148,
   152,
   163,
   167,
   176,
   185,
   190,
   205,
   216,
   235,
   245,
   249,
   259,
   263,
   274,
   278,
   289,
   299,
   314,
   324,
   341,
   354,
   387,
   391,
   393,
   399,
   402,
   408,
   415,
   419,
   428,
   432,
   441,
   445,
   454,
   460,
   470,
   493,
   496,
   500,
   561,
   573,
   579,
   583,
   585,
   589,
   592,
   604,
   652,
   696,
   702,
   706,
   712,
   724,
   738,
   750,
   759,
   763,
   769,
   783,
   790,
   813,
   818,
   832,
   835,
   839,
   844,
   848,
   850,
   854,
   857,
   861,
   867,
   871,
   877,
   883,
   890,
   898,
   912,
   926,
   944,
   950,
   955,
   974,
   988,
   998,
   1001,
   1005,
   1010,
   1014,
   1032,
   1047,
   1059,
   1071,
   1083,
   1089,
   1092,
   1096,
   1099,
   1107,
   1110,
   1122,
   1142,
   1148,
   1174,
   1178,
   1200,
   1212,
   1221,
   1231,
   1243,
   1247,
   1254,
   1261,
   1270,
   1280,
   1306,
   1310,
   1318,
   1356,
   1358,
   1362,
   1365,
   1371,
   1373,
   1377,
   1379,
   1387,
   1396,
   1400,
   1403,
   1407,
   1420,
   1430,
   1432,
   1436,
   1439,
   1443,
   1445,
   1453,
   1457,
   1482,
   1493,
   1497,
   1509,
   1513,
   1524,
   1528,
   1542,
   1546,
   1562,
   1574,
   1587,
   1593,
   1608
  ]
 },
 "nbformat": 4,
 "nbformat_minor": 5
}