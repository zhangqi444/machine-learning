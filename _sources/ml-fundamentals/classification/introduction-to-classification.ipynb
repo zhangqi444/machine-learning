{
 "cells": [
  {
   "cell_type": "markdown",
   "id": "f9751e67",
   "metadata": {},
   "source": [
    "# Introduction to classification\n",
    "\n",
    "In these four sections, you will explore a fundamental focus of classic machine learning _classification_. We will walk through using various classification algorithms with a dataset about all the brilliant cuisines of Asia and India. Hope you're hungry!\n",
    "\n",
    "```{figure} ../../../images/ml-fundamentals/ml-classification/pinch.png\n",
    "---\n",
    "name: 'Celebrate pan-Asian cuisines in these lessons!'\n",
    "width: 90%\n",
    "---\n",
    "Image by [Jen Looper](https://twitter.com/jenlooper)\n",
    "```\n",
    "\n",
    "Classification is a form of [supervised learning](https://wikipedia.org/wiki/Supervised_learning) that bears a lot in common with regression techniques. If machine learning is all about predicting values or names to things by using datasets, then classification generally falls into two groups: _binary classification_ and _multiclass classification_.\n",
    "\n",
    "```{seealso}\n",
    "\n",
    "<div class=\"yt-container\">\n",
    "  <iframe src=\"https://www.youtube.com/embed/eg8DJYwdMyg\" allowfullscreen></iframe>\n",
    "</div>\n",
    "\n",
    "Click the video above for a quick introduction to classification.\n",
    "```\n",
    "\n",
    "```{note}\n",
    "- **Linear regression** helped you predict relationships between variables and make accurate predictions on where a new datapoint would fall in relationship to that line. So, you could predict _what price a pumpkin would be in September vs. December_, for example.\n",
    "- **Logistic regression** helped you discover \"binary categories\": at this price point, _is this pumpkin orange or not-orange_?\n",
    "\n",
    "Classification uses various algorithms to determine other ways of determining a data point's label or class. Let's work with this cuisine data to see whether, by observing a group of ingredients, we can determine its cuisine of origin.\n",
    "```\n",
    "\n",
    "## Introduction\n",
    "\n",
    "Classification is one of the fundamental activities of the machine learning researcher and data scientist. From basic classification of a binary value (\"is this email spam or not?\"), to complex image classification and segmentation using computer vision, it's always useful to be able to sort data into classes and ask questions of it.\n",
    "\n",
    "To state the process in a more scientific way, your classification method creates a predictive model that enables you to map the relationship between input variables to output variables.\n",
    "\n",
    "```{figure} ../../../images/ml-fundamentals/ml-classification/binary-multiclass.png\n",
    "---\n",
    "name: 'binary vs. multiclass classification'\n",
    "width: 90%\n",
    "---\n",
    "Infographic by [Jen Looper](https://twitter.com/jenlooper)\n",
    "```\n",
    "\n",
    "Before starting the process of cleaning our data, visualizing it, and prepping it for our ML tasks, let's learn a bit about the various ways machine learning can be leveraged to classify data.\n",
    "\n",
    "Derived from [statistics](https://wikipedia.org/wiki/Statistical_classification), classification using classic machine learning uses features, such as `smoker`, `weight`, and `age` to determine _likelihood of developing X disease_. As a supervised learning technique similar to the regression exercises you performed earlier, your data is labeled and the ML algorithms use those labels to classify and predict classes (or 'features') of a dataset and assign them to a group or outcome.\n",
    "\n",
    "```{note}\n",
    "Take a moment to imagine a dataset about cuisines. What would a multiclass model be able to answer? What would a binary model be able to answer? What if you wanted to determine whether a given cuisine was likely to use fenugreek? What if you wanted to see if, given a present of a grocery bag full of star anise, artichokes, cauliflower, and horseradish, you could create a typical Indian dish?\n",
    "```\n",
    "\n",
    "```{seealso}\n",
    "\n",
    "<div class=\"yt-container\">\n",
    "  <iframe src=\"https://www.youtube.com/embed/GuTeDbaNoEU\" allowfullscreen></iframe>\n",
    "</div>\n",
    "\n",
    "Click the video above. The whole premise of the show 'Chopped' is the 'mystery basket' where chefs have to make some dish out of a random choice of ingredients. Surely a ML model would have helped!\n",
    "```\n",
    "\n",
    "## Hello 'classifier'\n",
    "\n",
    "The question we want to ask of this cuisine dataset is actually a **multiclass question**, as we have several potential national cuisines to work with. Given a batch of ingredients, which of these many classes will the data fit?\n",
    "\n",
    "Scikit-learn offers several different algorithms to use to classify data, depending on the kind of problem you want to solve. In the next two sections, you'll learn about several of these algorithms.\n",
    "\n",
    "## Exercise - clean and balance your data\n",
    "\n",
    "The first task at hand, before starting this project, is to clean and **balance** your data to get better results. Start with the blank [delicious-asian-and-indian-cuisines.ipynb](../../assignments/ml-fundamentals/delicious-asian-and-indian-cuisines.ipynb) file.\n",
    "\n",
    "The first thing to install is [imblearn](https://imbalanced-learn.org/stable/). This is a Scikit-learn package that will allow you to better balance the data (you will learn more about this task in a minute).\n",
    "\n",
    "1\\. Import the packages you need to import your data and visualize it, also import `SMOTE` from `imblearn`."
   ]
  },
  {
   "cell_type": "code",
   "execution_count": 1,
   "id": "f04c1c8b",
   "metadata": {},
   "outputs": [
    {
     "ename": "ModuleNotFoundError",
     "evalue": "No module named 'imblearn'",
     "output_type": "error",
     "traceback": [
      "\u001b[0;31m---------------------------------------------------------------------------\u001b[0m",
      "\u001b[0;31mModuleNotFoundError\u001b[0m                       Traceback (most recent call last)",
      "Cell \u001b[0;32mIn[1], line 5\u001b[0m\n\u001b[1;32m      3\u001b[0m \u001b[38;5;28;01mimport\u001b[39;00m \u001b[38;5;21;01mmatplotlib\u001b[39;00m \u001b[38;5;28;01mas\u001b[39;00m \u001b[38;5;21;01mmpl\u001b[39;00m\n\u001b[1;32m      4\u001b[0m \u001b[38;5;28;01mimport\u001b[39;00m \u001b[38;5;21;01mnumpy\u001b[39;00m \u001b[38;5;28;01mas\u001b[39;00m \u001b[38;5;21;01mnp\u001b[39;00m\n\u001b[0;32m----> 5\u001b[0m \u001b[38;5;28;01mfrom\u001b[39;00m \u001b[38;5;21;01mimblearn\u001b[39;00m\u001b[38;5;21;01m.\u001b[39;00m\u001b[38;5;21;01mover_sampling\u001b[39;00m \u001b[38;5;28;01mimport\u001b[39;00m SMOTE\n",
      "\u001b[0;31mModuleNotFoundError\u001b[0m: No module named 'imblearn'"
     ]
    }
   ],
   "source": [
    "import pandas as pd\n",
    "import matplotlib.pyplot as plt\n",
    "import matplotlib as mpl\n",
    "import numpy as np\n",
    "from imblearn.over_sampling import SMOTE"
   ]
  },
  {
   "cell_type": "markdown",
   "id": "091ced50",
   "metadata": {},
   "source": [
    "Now you are set up to read import the data next.\n",
    "\n",
    "2\\. The next task will be to import the data:"
   ]
  },
  {
   "cell_type": "code",
   "execution_count": null,
   "id": "c5513788",
   "metadata": {},
   "outputs": [],
   "source": [
    "df  = pd.read_csv('../../assets/data/classification/cuisines.csv')"
   ]
  },
  {
   "cell_type": "markdown",
   "id": "e0a531d3",
   "metadata": {},
   "source": [
    "Using `read_csv()` will read the content of the csv file _cusines.csv_ and place it in the variable `df`.\n",
    "\n",
    "3\\. Check the data's shape:"
   ]
  },
  {
   "cell_type": "code",
   "execution_count": null,
   "id": "4767390e",
   "metadata": {
    "tags": [
     "output_scroll"
    ]
   },
   "outputs": [],
   "source": [
    "df.head()"
   ]
  },
  {
   "cell_type": "markdown",
   "id": "1ed50b62",
   "metadata": {},
   "source": [
    "The first five rows look like this.\n",
    "\n",
    "4\\. Get info about this data by calling `info()`:"
   ]
  },
  {
   "cell_type": "code",
   "execution_count": null,
   "id": "e01b41f8",
   "metadata": {},
   "outputs": [],
   "source": [
    "df.info()"
   ]
  },
  {
   "cell_type": "markdown",
   "id": "d0da48ae",
   "metadata": {},
   "source": [
    "## Exercise - learning about cuisines\n",
    "\n",
    "Now the work starts to become more interesting. Let's discover the distribution of data, per cuisine \n",
    "\n",
    "1\\. Plot the data as bars by calling `barh()`:"
   ]
  },
  {
   "cell_type": "code",
   "execution_count": null,
   "id": "80b147a9",
   "metadata": {},
   "outputs": [],
   "source": [
    "df.cuisine.value_counts().plot.barh()"
   ]
  },
  {
   "cell_type": "markdown",
   "id": "9d005ee2",
   "metadata": {},
   "source": [
    "There are a finite number of cuisines, but the distribution of data is uneven. You can fix that! Before doing so, explore a little more. \n",
    "\n",
    "2\\. Find out how much data is available per cuisine and print it out:"
   ]
  },
  {
   "cell_type": "code",
   "execution_count": null,
   "id": "840a4333",
   "metadata": {},
   "outputs": [],
   "source": [
    "thai_df = df[(df.cuisine == \"thai\")]\n",
    "japanese_df = df[(df.cuisine == \"japanese\")]\n",
    "chinese_df = df[(df.cuisine == \"chinese\")]\n",
    "indian_df = df[(df.cuisine == \"indian\")]\n",
    "korean_df = df[(df.cuisine == \"korean\")]\n",
    "\n",
    "print(f'thai df: {thai_df.shape}')\n",
    "print(f'japanese df: {japanese_df.shape}')\n",
    "print(f'chinese df: {chinese_df.shape}')\n",
    "print(f'indian df: {indian_df.shape}')\n",
    "print(f'korean df: {korean_df.shape}')"
   ]
  },
  {
   "cell_type": "markdown",
   "id": "d146fb0c",
   "metadata": {},
   "source": [
    "## Discovering ingredients\n",
    "\n",
    "Now you can dig deeper into the data and learn what are the typical ingredients per cuisine. You should clean out recurrent data that creates confusion between cuisines, so let's learn about this problem.\n",
    "\n",
    "1\\. Create a function `create_ingredient()` in Python to create an ingredient dataframe. This function will start by dropping an unhelpful column and sort through ingredients by their count:"
   ]
  },
  {
   "cell_type": "code",
   "execution_count": null,
   "id": "af1335e0",
   "metadata": {},
   "outputs": [],
   "source": [
    "def create_ingredient_df(df):\n",
    "    ingredient_df = df.T.drop(['cuisine' ,'Unnamed: 0']).sum(axis=1).to_frame('value')\n",
    "    ingredient_df = ingredient_df[(ingredient_df.T != 0).any()]\n",
    "    ingredient_df = ingredient_df.sort_values(by='value' , ascending=False,\n",
    "    inplace=False)\n",
    "    return ingredient_df"
   ]
  },
  {
   "cell_type": "markdown",
   "id": "c7a68b46",
   "metadata": {},
   "source": [
    "Now you can use that function to get an idea of top ten most popular ingredients by cuisine.\n",
    "\n",
    "2\\. Call `create_ingredient()` and plot it calling `barh()`:"
   ]
  },
  {
   "cell_type": "code",
   "execution_count": null,
   "id": "0018c41f",
   "metadata": {},
   "outputs": [],
   "source": [
    "thai_ingredient_df = create_ingredient_df(thai_df)\n",
    "thai_ingredient_df.head(10).plot.barh()"
   ]
  },
  {
   "cell_type": "markdown",
   "id": "8c2804d8",
   "metadata": {},
   "source": [
    "3\\. Do the same for the japanese data:"
   ]
  },
  {
   "cell_type": "code",
   "execution_count": null,
   "id": "dd195ab6",
   "metadata": {},
   "outputs": [],
   "source": [
    "japanese_ingredient_df = create_ingredient_df(japanese_df)\n",
    "japanese_ingredient_df.head(10).plot.barh()"
   ]
  },
  {
   "cell_type": "markdown",
   "id": "98d3539b",
   "metadata": {},
   "source": [
    "4\\. Now for the chinese ingredients:"
   ]
  },
  {
   "cell_type": "code",
   "execution_count": null,
   "id": "274fa49c",
   "metadata": {},
   "outputs": [],
   "source": [
    "chinese_ingredient_df = create_ingredient_df(chinese_df)\n",
    "chinese_ingredient_df.head(10).plot.barh()"
   ]
  },
  {
   "cell_type": "markdown",
   "id": "c0a12d9d",
   "metadata": {},
   "source": [
    "5\\. Plot the indian ingredients:"
   ]
  },
  {
   "cell_type": "code",
   "execution_count": null,
   "id": "0144e2f1",
   "metadata": {},
   "outputs": [],
   "source": [
    "indian_ingredient_df = create_ingredient_df(indian_df)\n",
    "indian_ingredient_df.head(10).plot.barh()"
   ]
  },
  {
   "cell_type": "markdown",
   "id": "1bb78a14",
   "metadata": {},
   "source": [
    "6\\. Finally, plot the korean ingredients:"
   ]
  },
  {
   "cell_type": "code",
   "execution_count": null,
   "id": "58df515e",
   "metadata": {},
   "outputs": [],
   "source": [
    "korean_ingredient_df = create_ingredient_df(korean_df)\n",
    "korean_ingredient_df.head(10).plot.barh()"
   ]
  },
  {
   "cell_type": "markdown",
   "id": "e9f0b7bd",
   "metadata": {},
   "source": [
    "7\\. Now, drop the most common ingredients that create confusion between distinct cuisines, by calling `drop()`:\n",
    "\n",
    "Everyone loves rice, garlic and ginger!"
   ]
  },
  {
   "cell_type": "code",
   "execution_count": null,
   "id": "846a8886",
   "metadata": {
    "tags": [
     "output_scroll"
    ]
   },
   "outputs": [],
   "source": [
    "feature_df= df.drop(['cuisine' ,'Unnamed: 0' ,'rice' ,'garlic' ,'ginger'] , axis=1)\n",
    "labels_df = df.cuisine #.unique()\n",
    "feature_df.head()"
   ]
  },
  {
   "cell_type": "markdown",
   "id": "08175fec",
   "metadata": {},
   "source": [
    "## Balance the dataset\n",
    "\n",
    "Now that you have cleaned the data, use [SMOTE](https://imbalanced-learn.org/dev/references/generated/imblearn.over_sampling.SMOTE.html) - \"Synthetic Minority Over-sampling Technique\" - to balance it.\n",
    "\n",
    "1\\. Call `fit_resample()`, this strategy generates new samples by interpolation."
   ]
  },
  {
   "cell_type": "code",
   "execution_count": null,
   "id": "17d927ec",
   "metadata": {},
   "outputs": [],
   "source": [
    "oversample = SMOTE()\n",
    "transformed_feature_df, transformed_label_df = oversample.fit_resample(feature_df, labels_df)"
   ]
  },
  {
   "cell_type": "markdown",
   "id": "ee76d5e4",
   "metadata": {},
   "source": [
    "By balancing your data, you'll have better results when classifying it. Think about a binary classification. If most of your data is one class, a ML model is going to predict that class more frequently, just because there is more data for it. Balancing the data takes any skewed data and helps remove this imbalance. \n",
    "\n",
    "2\\. Now you can check the numbers of labels per ingredient:"
   ]
  },
  {
   "cell_type": "code",
   "execution_count": null,
   "id": "5cb73c44",
   "metadata": {},
   "outputs": [],
   "source": [
    "print(f'new label count: {transformed_label_df.value_counts()}')\n",
    "print(f'old label count: {df.cuisine.value_counts()}')"
   ]
  },
  {
   "cell_type": "markdown",
   "id": "e789c69f",
   "metadata": {},
   "source": [
    "The data is nice and clean, balanced, and very delicious!\n",
    "\n",
    "3\\. The last step is to save your balanced data, including labels and features, into a new dataframe that can be exported into a file:"
   ]
  },
  {
   "cell_type": "code",
   "execution_count": null,
   "id": "c5691dbf",
   "metadata": {},
   "outputs": [],
   "source": [
    "transformed_df = pd.concat([transformed_label_df,transformed_feature_df],axis=1, join='outer')"
   ]
  },
  {
   "cell_type": "markdown",
   "id": "045dcb1d",
   "metadata": {},
   "source": [
    "4\\. You can take one more look at the data using `transformed_df.head()` and `transformed_df.info()`. Save a copy of this data for use in future sections:"
   ]
  },
  {
   "cell_type": "code",
   "execution_count": null,
   "id": "5f5bf075",
   "metadata": {},
   "outputs": [],
   "source": [
    "transformed_df.head()\n",
    "transformed_df.info()\n",
    "transformed_df.to_csv(\"../../assets/data/cleaned_cuisines.csv \")"
   ]
  },
  {
   "cell_type": "markdown",
   "id": "d9f7b178",
   "metadata": {},
   "source": [
    "---\n",
    "\n",
    "## Self study\n",
    "\n",
    "This curriculum contains several interesting datasets. Dig through the [/data/classification](https://github.com/YinYi000/machine-learning/tree/main/open-machine-learning-jupyter-book/assets/data) folders and see if any contain datasets that would be appropriate for binary or multi-class classification? What questions would you ask of this dataset?\n",
    "\n",
    "## Your turn! 🚀\n",
    "\n",
    "Explore SMOTE's API. What use cases is it best used for? What problems does it solve?\n",
    "\n",
    "Assignment - [Explore classification methods](../../assignments/ml-fundamentals/explore-classification-methods.md)\n",
    "\n",
    "## Acknowledgments\n",
    "\n",
    "Thanks to Microsoft for creating the open-source course [ML-For-Beginners](https://github.com/microsoft/ML-For-Beginners). It inspires the majority of the content in this chapter."
   ]
  }
 ],
 "metadata": {
  "jupytext": {
   "cell_metadata_filter": "-all",
   "formats": "md:myst",
   "text_representation": {
    "extension": ".md",
    "format_name": "myst",
    "format_version": 0.13,
    "jupytext_version": "1.11.5"
   }
  },
  "kernelspec": {
   "display_name": "Python 3",
   "language": "python",
   "name": "python3"
  },
  "language_info": {
   "codemirror_mode": {
    "name": "ipython",
    "version": 3
   },
   "file_extension": ".py",
   "mimetype": "text/x-python",
   "name": "python",
   "nbconvert_exporter": "python",
   "pygments_lexer": "ipython3",
   "version": "3.9.16"
  },
  "source_map": [
   14,
   91,
   97,
   103,
   105,
   111,
   115,
   121,
   123,
   131,
   133,
   139,
   151,
   159,
   166,
   172,
   175,
   179,
   182,
   186,
   189,
   193,
   196,
   200,
   203,
   209,
   215,
   223,
   226,
   232,
   235,
   241,
   243,
   247,
   251
  ]
 },
 "nbformat": 4,
 "nbformat_minor": 5
}