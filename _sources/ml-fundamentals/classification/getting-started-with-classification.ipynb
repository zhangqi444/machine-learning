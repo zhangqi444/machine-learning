{
 "cells": [
  {
   "cell_type": "markdown",
   "id": "7c69f205",
   "metadata": {},
   "source": [
    "# Getting started with classification\n",
    "\n",
    "In Asia and India, food traditions are extremely diverse, and very delicious! Let's look at data about regional cuisines to try to understand their ingredients.\n",
    "\n",
    "```{figure} ../../../images/ml-fundamentals/ml-classification/thai-food.jpg\n",
    "---\n",
    "name: 'Thai food seller'\n",
    "width: 90%\n",
    "---\n",
    "Photo by <a href=\"https://unsplash.com/@changlisheng?utm_source=unsplash&utm_medium=referral&utm_content=creditCopyText\">Lisheng Chang</a> on <a href=\"https://unsplash.com/s/photos/asian-food?utm_source=unsplash&utm_medium=referral&utm_content=creditCopyText\">Unsplash</a>\n",
    "```\n",
    "\n",
    "In this section, you will build on your earlier study of Regression and learn about other classifiers that you can use to better understand the data.\n",
    "\n",
    "```{seealso}\n",
    "There are useful low-code tools that can help you learn about working with classification models. Try [Azure ML for this task](https://docs.microsoft.com/learn/modules/create-classification-model-azure-machine-learning-designer/?WT.mc_id=academic-77952-leestott)\n",
    "```\n",
    "\n",
    "---\n",
    "\n",
    "```{tableofcontents}\n",
    "```"
   ]
  }
 ],
 "metadata": {
  "jupytext": {
   "cell_metadata_filter": "-all",
   "formats": "md:myst",
   "text_representation": {
    "extension": ".md",
    "format_name": "myst",
    "format_version": 0.13,
    "jupytext_version": "1.11.5"
   }
  },
  "kernelspec": {
   "display_name": "Python 3",
   "language": "python",
   "name": "python3"
  },
  "language_info": {
   "codemirror_mode": {
    "name": "ipython",
    "version": 3
   },
   "file_extension": ".py",
   "mimetype": "text/x-python",
   "name": "python",
   "nbconvert_exporter": "python",
   "pygments_lexer": "ipython3",
   "version": "3.9.16"
  },
  "source_map": [
   14
  ]
 },
 "nbformat": 4,
 "nbformat_minor": 5
}